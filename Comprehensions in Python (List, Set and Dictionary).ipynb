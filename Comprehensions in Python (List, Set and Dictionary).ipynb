{
  "nbformat": 4,
  "nbformat_minor": 0,
  "metadata": {
    "colab": {
      "name": "Comprehensions.ipynb",
      "provenance": [],
      "authorship_tag": "ABX9TyN3Q2cDN9U860a7dGYwvy4T",
      "include_colab_link": true
    },
    "kernelspec": {
      "name": "python3",
      "display_name": "Python 3"
    },
    "language_info": {
      "name": "python"
    }
  },
  "cells": [
    {
      "cell_type": "markdown",
      "metadata": {
        "id": "view-in-github",
        "colab_type": "text"
      },
      "source": [
        "<a href=\"https://colab.research.google.com/github/ComputingUntangled/Python-for-Beginners/blob/main/Comprehensions%20in%20Python%20(List%2C%20Set%20and%20Dictionary).ipynb\" target=\"_parent\"><img src=\"https://colab.research.google.com/assets/colab-badge.svg\" alt=\"Open In Colab\"/></a>"
      ]
    },
    {
      "cell_type": "markdown",
      "source": [
        "#Comprehensions in Python\n",
        "\n",
        "Hello and welcome back!\n",
        "\n",
        "In this tutorial, we will learn about comprehensions in Python, and more specifically, learn to make our code more readable, elegant and shorter using list comprehensions. We will also take a look at set and dictionary comprehension with some examples.\n",
        "\n",
        "So let's get started!!"
      ],
      "metadata": {
        "id": "cYJ-XrFtOPxP"
      }
    },
    {
      "cell_type": "markdown",
      "source": [
        "##List Comprehension"
      ],
      "metadata": {
        "id": "MKsauRifOjXd"
      }
    },
    {
      "cell_type": "markdown",
      "source": [
        "**List Comprehension:** \n",
        "\n",
        "When we're analyzing and working with lists or sequences in Python, we'll often have to manipulate, modify, or perform calculations on every single item in the list, all at once.\n",
        "\n",
        "We may also need to create new lists from scratch, or create a new list based on the values of an already existing list.\n",
        "\n",
        "List comprehension is a fast, short, and elegant way to create lists compared to other iterative methods, like for loops. It is special syntax used by Python in order to fill lists.\n",
        "\n",
        "- Syntax of List Comprehension:<br>\n",
        "`newlist = [expression for element in iterable if conditional]`\n",
        "\n",
        "- A list comprehension consists of brackets containing an expression followed by a for clause, then zero or more for or if clauses. The result will be a new list resulting from evaluating the expression in the context of the for and if clauses which follow it.\n",
        "\n",
        "- The expression are operation statement to be executed in iterations \n",
        "\n",
        "- The iterable can be any iterable object, like a list, tuple, set etc.\n",
        "\n",
        "- A list comprehension is actually a list, but created on-the-fly during program execution, and is not described statically.\n",
        "\n",
        "- List comprehensions are usually more human readable than lambda function or map function. The resultinig code is as easy to read as plain English, making it easier to understand what the programmer was trying to accomplish when list comprehensions are used.\n",
        "\n",
        "- Every list comprehension can be rewritten in for loop, but every for loop can’t be rewritten in the form of list comprehension.\n",
        "\n",
        "This will make more sense when we see some example codes, so let's look at a few examples."
      ],
      "metadata": {
        "id": "6tNLPPu5iGgd"
      }
    },
    {
      "cell_type": "markdown",
      "source": [
        "### Simple Example of List Comprehension, to find square to numbers, using a range() function as iterable"
      ],
      "metadata": {
        "id": "L42W9lrGfuNJ"
      }
    },
    {
      "cell_type": "code",
      "source": [
        "squares = []\n",
        "for item in range(-1, 11):\n",
        "  squares.append(item**2)\n",
        "print(squares)\n"
      ],
      "metadata": {
        "colab": {
          "base_uri": "https://localhost:8080/"
        },
        "id": "VO-nCssWfzKv",
        "outputId": "3b0a8997-0286-4f12-bb3a-ee98e951efdc"
      },
      "execution_count": 1,
      "outputs": [
        {
          "output_type": "stream",
          "name": "stdout",
          "text": [
            "[1, 0, 1, 4, 9, 16, 25, 36, 49, 64, 81, 100]\n"
          ]
        }
      ]
    },
    {
      "cell_type": "markdown",
      "source": [
        "Rather than creating an empty list and appending each element to the end, we can simply define the list and its contents at the same time "
      ],
      "metadata": {
        "id": "06Bgx6bMC65j"
      }
    },
    {
      "cell_type": "code",
      "source": [
        "squares = [item**2 for item in range(1,11)]\n",
        "print(squares)"
      ],
      "metadata": {
        "colab": {
          "base_uri": "https://localhost:8080/"
        },
        "id": "KJWAPg_fgxDR",
        "outputId": "384bf513-e170-4852-b34d-cad38f08b37f"
      },
      "execution_count": 2,
      "outputs": [
        {
          "output_type": "stream",
          "name": "stdout",
          "text": [
            "[1, 4, 9, 16, 25, 36, 49, 64, 81, 100]\n"
          ]
        }
      ]
    },
    {
      "cell_type": "markdown",
      "source": [
        "### List Comprehension Involving a Nested for-Loop\n",
        "\n",
        "Creating multiplication tables for given range of numbers"
      ],
      "metadata": {
        "id": "AIX6Rv8LisJi"
      }
    },
    {
      "cell_type": "code",
      "source": [
        "tables = []\n",
        "for number in range(1,3):\n",
        "  this_table = []\n",
        "  for multiplier in range(1,11):\n",
        "    this_table.append(f\"{number} * {multiplier} = {number*multiplier}\")\n",
        "  tables.append(this_table)\n",
        "  \n",
        "for table in tables: \n",
        "  for row in table: print(row)\n",
        "  print()"
      ],
      "metadata": {
        "id": "Orr1JCEZi05E",
        "colab": {
          "base_uri": "https://localhost:8080/"
        },
        "outputId": "d9dfc2e0-42bf-43d5-8ff3-bf17eab32960"
      },
      "execution_count": 3,
      "outputs": [
        {
          "output_type": "stream",
          "name": "stdout",
          "text": [
            "1 * 1 = 1\n",
            "1 * 2 = 2\n",
            "1 * 3 = 3\n",
            "1 * 4 = 4\n",
            "1 * 5 = 5\n",
            "1 * 6 = 6\n",
            "1 * 7 = 7\n",
            "1 * 8 = 8\n",
            "1 * 9 = 9\n",
            "1 * 10 = 10\n",
            "\n",
            "2 * 1 = 2\n",
            "2 * 2 = 4\n",
            "2 * 3 = 6\n",
            "2 * 4 = 8\n",
            "2 * 5 = 10\n",
            "2 * 6 = 12\n",
            "2 * 7 = 14\n",
            "2 * 8 = 16\n",
            "2 * 9 = 18\n",
            "2 * 10 = 20\n",
            "\n"
          ]
        }
      ]
    },
    {
      "cell_type": "code",
      "source": [
        "tables = [[f\"{number} * {multiplier} = {number*multiplier}\" for multiplier in range(1,11)] for number in range(1,3)]\n",
        "# for number in range(1,3) is executed before for multiplier in range(1,11)\n",
        "\n",
        "for table in tables: \n",
        "  for row in table: print(row)\n",
        "  print()"
      ],
      "metadata": {
        "id": "ig5tHrvrkIA9",
        "colab": {
          "base_uri": "https://localhost:8080/"
        },
        "outputId": "3ea782df-0eda-4c15-dc7f-96ed5825c6dc"
      },
      "execution_count": 4,
      "outputs": [
        {
          "output_type": "stream",
          "name": "stdout",
          "text": [
            "1 * 1 = 1\n",
            "1 * 2 = 2\n",
            "1 * 3 = 3\n",
            "1 * 4 = 4\n",
            "1 * 5 = 5\n",
            "1 * 6 = 6\n",
            "1 * 7 = 7\n",
            "1 * 8 = 8\n",
            "1 * 9 = 9\n",
            "1 * 10 = 10\n",
            "\n",
            "2 * 1 = 2\n",
            "2 * 2 = 4\n",
            "2 * 3 = 6\n",
            "2 * 4 = 8\n",
            "2 * 5 = 10\n",
            "2 * 6 = 12\n",
            "2 * 7 = 14\n",
            "2 * 8 = 16\n",
            "2 * 9 = 18\n",
            "2 * 10 = 20\n",
            "\n"
          ]
        }
      ]
    },
    {
      "cell_type": "markdown",
      "source": [
        "### List Comprehension to make a copy of a list (using existing list as iterable)\n",
        "\n",
        "The iterable can be any iterable object, like a list, tuple, set etc."
      ],
      "metadata": {
        "id": "a0vjbyOacj2g"
      }
    },
    {
      "cell_type": "code",
      "execution_count": 5,
      "metadata": {
        "id": "E_Af7QUEiOzX",
        "colab": {
          "base_uri": "https://localhost:8080/"
        },
        "outputId": "fc6c0852-7a42-4be8-9125-0bb8d6bd2a87"
      },
      "outputs": [
        {
          "output_type": "stream",
          "name": "stdout",
          "text": [
            "['Adam', 'Eva', 'Peter', 'Robert', 'Steve', 'Victor']\n"
          ]
        }
      ],
      "source": [
        "names = [\"adam\", \"eva\", \"peter\", \"robert\", \"steve\", \"victor\"]\n",
        "\n",
        "my_list = []\n",
        "for name in names:\n",
        "  my_list.append(name.title())\n",
        "print(my_list)"
      ]
    },
    {
      "cell_type": "code",
      "source": [
        "names = [\"adam\", \"eva\", \"peter\", \"robert\", \"steve\", \"victor\"]\n",
        "my_list = [name.title() for name in names]\n",
        "print(my_list)"
      ],
      "metadata": {
        "colab": {
          "base_uri": "https://localhost:8080/"
        },
        "id": "WDxG-gn4eR5F",
        "outputId": "82be48bd-7a90-4930-fad0-afede8df62c6"
      },
      "execution_count": 6,
      "outputs": [
        {
          "output_type": "stream",
          "name": "stdout",
          "text": [
            "['Adam', 'Eva', 'Peter', 'Robert', 'Steve', 'Victor']\n"
          ]
        }
      ]
    },
    {
      "cell_type": "markdown",
      "source": [
        "### List Comprehension involving an if-statement (conditionals)"
      ],
      "metadata": {
        "id": "ch4vsxCTetjy"
      }
    },
    {
      "cell_type": "code",
      "source": [
        "names = [\"adam\", \"eva\", \"peter\", \"robert\", \"steve\", \"victor\"]\n",
        "\n",
        "my_list = []\n",
        "for name in names:\n",
        "  if \"er\" in name:\n",
        "    my_list.append(name)\n",
        "print(my_list)"
      ],
      "metadata": {
        "colab": {
          "base_uri": "https://localhost:8080/"
        },
        "id": "WouSbFqifASp",
        "outputId": "3fe42b7e-4001-43e7-b0a8-9f16aa76abae"
      },
      "execution_count": 7,
      "outputs": [
        {
          "output_type": "stream",
          "name": "stdout",
          "text": [
            "['peter', 'robert']\n"
          ]
        }
      ]
    },
    {
      "cell_type": "code",
      "source": [
        "names = [\"adam\", \"eva\", \"peter\", \"robert\", \"steve\", \"victor\"]\n",
        "my_list = [name for name in names if \"er\" in name]\n",
        "print(my_list)"
      ],
      "metadata": {
        "colab": {
          "base_uri": "https://localhost:8080/"
        },
        "id": "PLob7hZCfZv6",
        "outputId": "a7a16661-2e49-4e32-db66-ef19c4ed722d"
      },
      "execution_count": 8,
      "outputs": [
        {
          "output_type": "stream",
          "name": "stdout",
          "text": [
            "['peter', 'robert']\n"
          ]
        }
      ]
    },
    {
      "cell_type": "markdown",
      "source": [
        "### List Comprehension involving nested if-statement"
      ],
      "metadata": {
        "id": "2XXpr3sz-Oz0"
      }
    },
    {
      "cell_type": "code",
      "source": [
        "names = [\"adam\", \"eva\", \"peter\", \"robert\", \"steve\", \"victor\"]\n",
        "\n",
        "my_list = []\n",
        "for name in names:\n",
        "  if \"er\" in name:\n",
        "    if \"pet\" in name:\n",
        "      my_list.append(name)\n",
        "print(my_list)"
      ],
      "metadata": {
        "colab": {
          "base_uri": "https://localhost:8080/"
        },
        "id": "muFpx8tJ-Ka2",
        "outputId": "77115e0d-e831-46e5-9100-908010b078a9"
      },
      "execution_count": 9,
      "outputs": [
        {
          "output_type": "stream",
          "name": "stdout",
          "text": [
            "['peter']\n"
          ]
        }
      ]
    },
    {
      "cell_type": "code",
      "source": [
        "names = [\"adam\", \"eva\", \"peter\", \"robert\", \"steve\", \"victor\"]\n",
        "my_list = [name for name in names if \"er\" in name if \"pet\" in name]\n",
        "print(my_list)"
      ],
      "metadata": {
        "colab": {
          "base_uri": "https://localhost:8080/"
        },
        "id": "Kvq2dLFa-aX9",
        "outputId": "769ace74-2669-432e-a933-a7577682ddd8"
      },
      "execution_count": 10,
      "outputs": [
        {
          "output_type": "stream",
          "name": "stdout",
          "text": [
            "['peter']\n"
          ]
        }
      ]
    },
    {
      "cell_type": "markdown",
      "source": [
        "### List Comprehension Involving if-else statement (using tuple as iterable)"
      ],
      "metadata": {
        "id": "7EhRR74lohnU"
      }
    },
    {
      "cell_type": "code",
      "source": [
        "numbers = (0, 1, 7, 21, 49, 81, 84, 693)    # tuple as iterable\n",
        "even_odd = []\n",
        "for number in numbers:\n",
        "  if number % 2:\n",
        "    even_odd.append((number, \"odd\"))\n",
        "  else:\n",
        "    even_odd.append((number, \"even\"))\n",
        "\n",
        "for i in even_odd:\n",
        "  print(i)                                  # list of tuple as output"
      ],
      "metadata": {
        "colab": {
          "base_uri": "https://localhost:8080/"
        },
        "id": "sRW9TpripQCr",
        "outputId": "499ebd34-45fd-45e3-c5c4-e6040d66fa50"
      },
      "execution_count": 11,
      "outputs": [
        {
          "output_type": "stream",
          "name": "stdout",
          "text": [
            "(0, 'even')\n",
            "(1, 'odd')\n",
            "(7, 'odd')\n",
            "(21, 'odd')\n",
            "(49, 'odd')\n",
            "(81, 'odd')\n",
            "(84, 'even')\n",
            "(693, 'odd')\n"
          ]
        }
      ]
    },
    {
      "cell_type": "code",
      "source": [
        "numbers = (0, 1, 7, 21, 49, 81, 84, 693)    # tuple as iterable\n",
        "even_odd = [(number, \"odd\") if number % 2 else (number, \"even\") for number in numbers]\n",
        "\n",
        "for i in even_odd:\n",
        "  print(i)                                  # list of tuple as output"
      ],
      "metadata": {
        "colab": {
          "base_uri": "https://localhost:8080/"
        },
        "id": "X85uVJNpr0SO",
        "outputId": "431acace-4a24-44f1-82d1-433adf27ebc8"
      },
      "execution_count": 12,
      "outputs": [
        {
          "output_type": "stream",
          "name": "stdout",
          "text": [
            "(0, 'even')\n",
            "(1, 'odd')\n",
            "(7, 'odd')\n",
            "(21, 'odd')\n",
            "(49, 'odd')\n",
            "(81, 'odd')\n",
            "(84, 'even')\n",
            "(693, 'odd')\n"
          ]
        }
      ]
    },
    {
      "cell_type": "markdown",
      "source": [
        "### List Comprehension to create a 2-Dimensional Matrix"
      ],
      "metadata": {
        "id": "B6EIDkjh87ro"
      }
    },
    {
      "cell_type": "code",
      "source": [
        "chess_board = []\n",
        "for j in range(1,9):\n",
        "  row = []\n",
        "  for i in \"ABCDEFGH\":\n",
        "    element = str(j)+i\n",
        "    row.append(element)\n",
        "  chess_board.append(row)\n",
        "for row in chess_board: print(row)"
      ],
      "metadata": {
        "colab": {
          "base_uri": "https://localhost:8080/"
        },
        "id": "1UR3UrlE9B3s",
        "outputId": "d1972b84-ad45-4a15-9e9f-aa8ae598871d"
      },
      "execution_count": 13,
      "outputs": [
        {
          "output_type": "stream",
          "name": "stdout",
          "text": [
            "['1A', '1B', '1C', '1D', '1E', '1F', '1G', '1H']\n",
            "['2A', '2B', '2C', '2D', '2E', '2F', '2G', '2H']\n",
            "['3A', '3B', '3C', '3D', '3E', '3F', '3G', '3H']\n",
            "['4A', '4B', '4C', '4D', '4E', '4F', '4G', '4H']\n",
            "['5A', '5B', '5C', '5D', '5E', '5F', '5G', '5H']\n",
            "['6A', '6B', '6C', '6D', '6E', '6F', '6G', '6H']\n",
            "['7A', '7B', '7C', '7D', '7E', '7F', '7G', '7H']\n",
            "['8A', '8B', '8C', '8D', '8E', '8F', '8G', '8H']\n"
          ]
        }
      ]
    },
    {
      "cell_type": "code",
      "source": [
        "chess_board = [[str(j)+i for i in \"ABCDEFGH\"] for j in range(1,9)]\n",
        "for row in chess_board: print(row)"
      ],
      "metadata": {
        "colab": {
          "base_uri": "https://localhost:8080/"
        },
        "id": "64fQHSItFnwN",
        "outputId": "1724bde7-0a4d-4bd9-93b8-d38ff89566df"
      },
      "execution_count": 14,
      "outputs": [
        {
          "output_type": "stream",
          "name": "stdout",
          "text": [
            "['1A', '1B', '1C', '1D', '1E', '1F', '1G', '1H']\n",
            "['2A', '2B', '2C', '2D', '2E', '2F', '2G', '2H']\n",
            "['3A', '3B', '3C', '3D', '3E', '3F', '3G', '3H']\n",
            "['4A', '4B', '4C', '4D', '4E', '4F', '4G', '4H']\n",
            "['5A', '5B', '5C', '5D', '5E', '5F', '5G', '5H']\n",
            "['6A', '6B', '6C', '6D', '6E', '6F', '6G', '6H']\n",
            "['7A', '7B', '7C', '7D', '7E', '7F', '7G', '7H']\n",
            "['8A', '8B', '8C', '8D', '8E', '8F', '8G', '8H']\n"
          ]
        }
      ]
    },
    {
      "cell_type": "markdown",
      "source": [
        "###List Comprehension to create a 3-Dimensional Matrix"
      ],
      "metadata": {
        "id": "mNvC6GW4F-i4"
      }
    },
    {
      "cell_type": "code",
      "source": [
        "from random import choice\n",
        "\n",
        "all_spots = []\n",
        "for building in range(2):\n",
        "  # print(\"building #\", building+1)\n",
        "  current_building = []\n",
        "  for floor in range(3):\n",
        "    current_floor = []\n",
        "    for spot in range(5):\n",
        "      current_floor.append(choice((True, False))) # spot_empty = True\n",
        "    current_building.append(current_floor)\n",
        "  # print(current_building)\n",
        "  all_spots.append(current_building)\n",
        "\n",
        "for item in all_spots: print(item)"
      ],
      "metadata": {
        "colab": {
          "base_uri": "https://localhost:8080/"
        },
        "id": "MipVTmWmGB7N",
        "outputId": "1e324fd9-b147-4622-9ddf-bdff615c6701"
      },
      "execution_count": 15,
      "outputs": [
        {
          "output_type": "stream",
          "name": "stdout",
          "text": [
            "[[True, True, True, True, False], [True, False, False, False, False], [False, False, False, False, False]]\n",
            "[[True, False, False, False, False], [False, True, True, True, True], [False, True, False, False, False]]\n"
          ]
        }
      ]
    },
    {
      "cell_type": "code",
      "source": [
        "from random import choice\n",
        "\n",
        "all_spots = [[[choice((True, False)) for spot in range(5)] for floor in range(3)] for building in range(2)]\n",
        "\n",
        "for item in all_spots: print(item)"
      ],
      "metadata": {
        "colab": {
          "base_uri": "https://localhost:8080/"
        },
        "id": "4LtzaK6kGCnk",
        "outputId": "0fd6b635-f773-4d42-ce80-1e4781191695"
      },
      "execution_count": 16,
      "outputs": [
        {
          "output_type": "stream",
          "name": "stdout",
          "text": [
            "[[True, True, False, True, True], [False, False, True, True, True], [True, False, False, True, True]]\n",
            "[[True, True, True, False, False], [False, True, False, True, False], [True, True, False, True, True]]\n"
          ]
        }
      ]
    },
    {
      "cell_type": "markdown",
      "source": [
        "### List Comprehension Involving functions\n",
        "\n",
        "Let's look at the previous example of printing squares of a range of numbers:\n",
        "\n",
        "\n",
        "> `squares = [item**2 for item in range(1,11)]`\n",
        "\n",
        "> `print(squares)`"
      ],
      "metadata": {
        "id": "dx3_ntXJcbw0"
      }
    },
    {
      "cell_type": "code",
      "source": [
        "def square_root(x):\n",
        "  return x**0.5\n",
        "  \n",
        "squares = [item**2 for item in range(1,11)]\n",
        "roots = [square_root(x) for x in squares]\n",
        "\n",
        "print(squares)\n",
        "print(roots)"
      ],
      "metadata": {
        "colab": {
          "base_uri": "https://localhost:8080/"
        },
        "id": "7iLUlgYvcoX1",
        "outputId": "74f5645d-c806-447a-92ad-af20b3c279ec"
      },
      "execution_count": 17,
      "outputs": [
        {
          "output_type": "stream",
          "name": "stdout",
          "text": [
            "[1, 4, 9, 16, 25, 36, 49, 64, 81, 100]\n",
            "[1.0, 2.0, 3.0, 4.0, 5.0, 6.0, 7.0, 8.0, 9.0, 10.0]\n"
          ]
        }
      ]
    },
    {
      "cell_type": "markdown",
      "source": [
        "##Set and Dictionary Comprehension\n",
        "\n",
        "While the list comprehension in Python is a common tool, you can also create comprehensions using set and dictionary. \n",
        "\n",
        "Let's look at the previous example of printing squares of a range of numbers:\n",
        "\n",
        "\n",
        "> `squares = [item**2 for item in range(1,11)]`\n",
        "\n",
        "> `print(squares)`"
      ],
      "metadata": {
        "id": "xz41Z837wEYQ"
      }
    },
    {
      "cell_type": "markdown",
      "source": [
        "###Set comprehensions\n",
        "\n",
        "A set comprehension is almost exactly the same as a list comprehension in Python. You can create a set comprehension by using curly braces instead of brackets. Apart from that, there are two major differences:\n",
        "- in set comprehensions, the output will not contain duplicate items\n",
        "- the output contains items in unordered sequence (no particular order)"
      ],
      "metadata": {
        "id": "FKf3ArR_wKLr"
      }
    },
    {
      "cell_type": "code",
      "source": [
        "squares = {item**2 for item in range(-1,11)}\n",
        "print(squares)"
      ],
      "metadata": {
        "colab": {
          "base_uri": "https://localhost:8080/"
        },
        "id": "N14SYI04wR-0",
        "outputId": "7b003c72-1a57-4929-fa27-fcaf530cea65"
      },
      "execution_count": 18,
      "outputs": [
        {
          "output_type": "stream",
          "name": "stdout",
          "text": [
            "{0, 1, 64, 4, 36, 100, 9, 16, 49, 81, 25}\n"
          ]
        }
      ]
    },
    {
      "cell_type": "markdown",
      "source": [
        "###Dictionary comprehensions\n",
        "\n",
        "A dictionary comprehension is similar to a list comprehension in Python. You can create a dictionary comprehension by using curly braces instead of brackets. Apart from that, there are two major differences:\n",
        "\n",
        "- dictionary comprehensions require defining a key:\n",
        "- in dictionary comprehensions, the output will not contain duplicate keys"
      ],
      "metadata": {
        "id": "BQD0GbQX4gWq"
      }
    },
    {
      "cell_type": "code",
      "source": [
        "numbers = [-1, -1, 0, 1, 2, 3, 4, 5, 6, 7, 8, 9, 10]\n",
        "squares = {item: item**2 for item in numbers}\n",
        "print(squares)"
      ],
      "metadata": {
        "colab": {
          "base_uri": "https://localhost:8080/"
        },
        "id": "jzHhOsTJySxm",
        "outputId": "d1f2e31a-d769-4af8-9cc2-39fc57c5b0e4"
      },
      "execution_count": 19,
      "outputs": [
        {
          "output_type": "stream",
          "name": "stdout",
          "text": [
            "{-1: 1, 0: 0, 1: 1, 2: 4, 3: 9, 4: 16, 5: 25, 6: 36, 7: 49, 8: 64, 9: 81, 10: 100}\n"
          ]
        }
      ]
    },
    {
      "cell_type": "markdown",
      "source": [
        "#Key Points to Remember\n",
        "- List comprehension is an elegant way to define and create lists on the fly based on existing iterable.\n",
        "- List comprehension is generally more compact and faster than normal functions and loops for creating list.\n",
        "- However, we should avoid writing very long list comprehensions so that our code remains user-friendly.\n",
        "\n",
        "Hopefully you’ve seen the potential of list comprehensions and how they can be used to write more elegant Python code.\n"
      ],
      "metadata": {
        "id": "U9bccxwTEVKY"
      }
    }
  ]
}