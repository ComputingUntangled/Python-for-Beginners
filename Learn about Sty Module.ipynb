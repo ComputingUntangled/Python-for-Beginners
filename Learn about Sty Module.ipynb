{
  "nbformat": 4,
  "nbformat_minor": 0,
  "metadata": {
    "colab": {
      "name": "Sty module.ipynb",
      "provenance": [],
      "collapsed_sections": [],
      "authorship_tag": "ABX9TyMoMmKUeQFpfb2DPZNZf/GL",
      "include_colab_link": true
    },
    "kernelspec": {
      "name": "python3",
      "display_name": "Python 3"
    },
    "language_info": {
      "name": "python"
    }
  },
  "cells": [
    {
      "cell_type": "markdown",
      "metadata": {
        "id": "view-in-github",
        "colab_type": "text"
      },
      "source": [
        "<a href=\"https://colab.research.google.com/github/ComputingUntangled/Python-for-Beginners/blob/main/Learn%20about%20Sty%20Module.ipynb\" target=\"_parent\"><img src=\"https://colab.research.google.com/assets/colab-badge.svg\" alt=\"Open In Colab\"/></a>"
      ]
    },
    {
      "cell_type": "markdown",
      "source": [
        "# **Style Text Outputs with Sty Module**"
      ],
      "metadata": {
        "id": "tjanr7b-ssTJ"
      }
    },
    {
      "cell_type": "markdown",
      "source": [
        "Hello folks! In this tutorial, we will learn how we can style text outputs such as add colors as well as effects like bold, italic, underline, etc. with Sty Module in Python.\n",
        "\n",
        "\n",
        "Sty’s goal is to provide Python with a simple, customizable and performant string styling markup, which is decoupled from color palettes and terminal implementations.\n",
        "- Release 1.0.0 (February 05. 2022) is considered stable.\n",
        "- Sty will support Python 3.7 or higher\n",
        "- Sty should work on most Unix platforms with most terminals. It works with recent Windows terminals.\n",
        "- Sty comes with default color palettes and renderers, but you can easily replace/customize them, without touching the markup in your code.\n",
        "- Sty allows you to mute/unmute all styles in your codebase.\n",
        "- Sty does not implicitly mess with globals. E.g.: colorama overrides sys.stdout which causes a lot of trouble.\n",
        "- Sty has no dependencies.\n",
        "- Sty supports 3/4bit, 8bit and 24bit (truecolor/RGB) **colors as well as effects like bold, italic, underline**, etc.\n",
        "\n",
        "[Project description Link](https://pypi.org/project/sty/)\n",
        "\n",
        "[DOCUMENTATION](https://sty.mewo.dev/index.html)"
      ],
      "metadata": {
        "id": "OrRa-Attdyu7"
      }
    },
    {
      "cell_type": "markdown",
      "source": [
        "## Installing Sty Module"
      ],
      "metadata": {
        "id": "9ul-XdJvcGnn"
      }
    },
    {
      "cell_type": "code",
      "execution_count": 1,
      "metadata": {
        "colab": {
          "base_uri": "https://localhost:8080/"
        },
        "id": "wsw4qrC1UMsb",
        "outputId": "570c9d66-9f5f-4de5-916f-f761010374e1"
      },
      "outputs": [
        {
          "output_type": "stream",
          "name": "stdout",
          "text": [
            "Looking in indexes: https://pypi.org/simple, https://us-python.pkg.dev/colab-wheels/public/simple/\n",
            "Collecting sty\n",
            "  Downloading sty-1.0.4-py3-none-any.whl (11 kB)\n",
            "Installing collected packages: sty\n",
            "Successfully installed sty-1.0.4\n"
          ]
        }
      ],
      "source": [
        "pip install sty"
      ]
    },
    {
      "cell_type": "markdown",
      "source": [
        "## Importing"
      ],
      "metadata": {
        "id": "fcKGLjVHtMd_"
      }
    },
    {
      "cell_type": "markdown",
      "source": [
        "You can import sty like this:\n",
        "\n",
        "> `import sty`\n",
        "\n",
        "However, sty provides a bunch of tiny, but flexible primitives (called register-objects) that can be used to style your strings. if you need to style a lot of stuff, you might consider importing the register-objects directly, like this:\n",
        "\n",
        "> `from sty import fg, bg, ef, rs`"
      ],
      "metadata": {
        "id": "bJhjGXlws6b4"
      }
    },
    {
      "cell_type": "markdown",
      "source": [
        "## Customize Text Foreground and Background Color using Default Attributes"
      ],
      "metadata": {
        "id": "CJnC-9vvcobl"
      }
    },
    {
      "cell_type": "markdown",
      "source": [
        "Each register-object carries a default selection of attributes, which you can select."
      ],
      "metadata": {
        "id": "xRy3XmjS2ppK"
      }
    },
    {
      "cell_type": "code",
      "source": [
        "from sty import fg, bg, rs\n",
        "\n",
        "print(bg.li_red + \"Bond! The name is James Bond.\")   # Coloring by name\n",
        "print(fg.li_yellow, \"Bond! The name is James Bond.\", fg.rs, bg.rs)   # Coloring by name\n",
        "print(\"Bond! The name is James Bond.\")\n",
        "print(fg(225, 0, 225), \"Bond! The name is James Bond.\")  # Coloring by 24bit codes\n",
        "print(fg(\"blue\"), \"Bond! The name is James Bond.\")   # Coloring by name\n",
        "print(fg.li_green + bg.black + \"Bond! The name is James Bond.\" + rs.all)\n",
        "print(\"Bond! The name is James Bond.\")"
      ],
      "metadata": {
        "colab": {
          "base_uri": "https://localhost:8080/"
        },
        "id": "MESmKYxRUZ2R",
        "outputId": "39b07583-f794-4cee-c7fc-9e7a31c4dab2"
      },
      "execution_count": 2,
      "outputs": [
        {
          "output_type": "stream",
          "name": "stdout",
          "text": [
            "\u001b[101mBond! The name is James Bond.\n",
            "\u001b[93m Bond! The name is James Bond. \u001b[39m \u001b[49m\n",
            "Bond! The name is James Bond.\n",
            "\u001b[38;2;225;0;225m Bond! The name is James Bond.\n",
            "\u001b[34m Bond! The name is James Bond.\n",
            "\u001b[92m\u001b[40mBond! The name is James Bond.\u001b[0m\n",
            "Bond! The name is James Bond.\n"
          ]
        }
      ]
    },
    {
      "cell_type": "markdown",
      "source": [
        "## Add Custom Styles to a Register-Object"
      ],
      "metadata": {
        "id": "nPkf5IUv2Q0r"
      }
    },
    {
      "cell_type": "markdown",
      "source": [
        "In order to add new or update existing styles for a register-object, you can simply assing a new styling rule to an attribute."
      ],
      "metadata": {
        "id": "A7vdCmKg4siF"
      }
    },
    {
      "cell_type": "code",
      "source": [
        "from sty import RgbFg, Style, fg\n",
        "\n",
        "# select a 24bit rgb color directly.\n",
        "# However, sty also allow you to select 8bit color\n",
        "fg.orange = Style(RgbFg(255, 150, 50))\n",
        "\n",
        "my_orange_text = fg.orange + \"Orange text.\" + fg.rs\n",
        "print(my_orange_text)"
      ],
      "metadata": {
        "colab": {
          "base_uri": "https://localhost:8080/"
        },
        "id": "I7ExgqYEqHyo",
        "outputId": "2cc0b4c0-10eb-49c2-dd62-22e2f6b9a477"
      },
      "execution_count": 3,
      "outputs": [
        {
          "output_type": "stream",
          "name": "stdout",
          "text": [
            "\u001b[38;2;255;150;50mOrange text.\u001b[39m\n"
          ]
        }
      ]
    },
    {
      "cell_type": "markdown",
      "source": [
        "There are multiple Render Types that you can use to define different styles.\n",
        "\n",
        "The `Style()` type allows you to compose styles from multiple new rules, as well as from existing register-objects:"
      ],
      "metadata": {
        "id": "Xu6Gd1Mo2viK"
      }
    },
    {
      "cell_type": "code",
      "source": [
        "from sty import RgbFg, Sgr, Style, ef, fg, bg, rs\n",
        "\n",
        "fg.blue_bold = Style(RgbFg(0, 100, 200), Sgr(1))    # ANSI Select Graphic Rendition (SGR) = renderer\n",
        "fg.green_italic = Style(fg.white, ef.i, bg.green)\n",
        "\n",
        "a = fg.blue_bold + \"This text has bold blue fg.\" + rs.all\n",
        "b = fg.green_italic + \"This text has italic green fg\" + rs.all\n",
        "\n",
        "print(a, b, sep=\"\\n\")"
      ],
      "metadata": {
        "colab": {
          "base_uri": "https://localhost:8080/"
        },
        "id": "mW1lGzOA2isb",
        "outputId": "7cccc6d8-fbd4-4afb-b97b-0561a1df07aa"
      },
      "execution_count": 4,
      "outputs": [
        {
          "output_type": "stream",
          "name": "stdout",
          "text": [
            "\u001b[38;2;0;100;200m\u001b[1mThis text has bold blue fg.\u001b[0m\n",
            "\u001b[97m\u001b[3m\u001b[42mThis text has italic green fg\u001b[0m\n"
          ]
        }
      ]
    },
    {
      "cell_type": "markdown",
      "source": [
        "## Randomize Text Foreground and Background Color"
      ],
      "metadata": {
        "id": "RpEOaePMcM5o"
      }
    },
    {
      "cell_type": "code",
      "source": [
        "from sty import fg, bg, rs\n",
        "from random import randint\n",
        "\n",
        "def my_rgb_fg_color():\n",
        "  red = randint(0, 256)\n",
        "  green = randint(0, 256)\n",
        "  blue = randint(0, 256)\n",
        "  return fg(red, green, blue)\n",
        "\n",
        "def my_rgb_bg_color():\n",
        "  red = randint(0, 256)\n",
        "  green = randint(0, 256)\n",
        "  blue = randint(0, 256)\n",
        "  return bg(red, green, blue)\n",
        "\n",
        "\n",
        "print(my_rgb_fg_color(), \"Bond! The name is James Bond\")\n",
        "print(my_rgb_fg_color(), my_rgb_bg_color(), \"Bond! The name is James Bond\", rs.all)\n",
        "print(\"Bond! The name is James Bond\")"
      ],
      "metadata": {
        "colab": {
          "base_uri": "https://localhost:8080/"
        },
        "id": "G6EC2kz9ZAie",
        "outputId": "12210625-0c7e-4842-95b4-c759ab6b1ee6"
      },
      "execution_count": 11,
      "outputs": [
        {
          "output_type": "stream",
          "name": "stdout",
          "text": [
            "\u001b[38;2;0;139;140m Bond! The name is James Bond\n",
            "\u001b[38;2;171;146;81m \u001b[48;2;233;213;191m Bond! The name is James Bond \u001b[0m\n",
            "Bond! The name is James Bond\n"
          ]
        }
      ]
    },
    {
      "cell_type": "markdown",
      "source": [
        "## Add Text Effects"
      ],
      "metadata": {
        "id": "ERwq2W1NpBo5"
      }
    },
    {
      "cell_type": "code",
      "source": [
        "from sty import ef, fg, bg, rs\n",
        "\n",
        "a = ef.italic + \"1. Italic.\" + rs.italic\n",
        "b = ef.underl + \"2. Underline.\" + rs.underl\n",
        "c = ef.strike + \"3. Strike.\" + rs.strike\n",
        "d = ef.inverse + \"4. Inverse.\" + rs.inverse\n",
        "e = ef.bold + \"5. Bold\" + rs.all\n",
        "f = ef.blink + \"6. Blink\" + rs.blink\n",
        "\n",
        "print(a, b, c, d, e, f, sep=\"\\n\")\n",
        "\n",
        "# There are shorthands for this:\n",
        "warno = ef.i + ef.b + ef.u + fg.yellow + bg.li_red + \"WARNING!\" + rs.all + \" Its April Fool!\"\n",
        "print(warno)"
      ],
      "metadata": {
        "colab": {
          "base_uri": "https://localhost:8080/"
        },
        "id": "kl-sloPQpK-Q",
        "outputId": "4cc11056-6141-4e35-b0ca-0fd8653c7e44"
      },
      "execution_count": 12,
      "outputs": [
        {
          "output_type": "stream",
          "name": "stdout",
          "text": [
            "\u001b[3m1. Italic.\u001b[23m\n",
            "\u001b[4m2. Underline.\u001b[24m\n",
            "\u001b[9m3. Strike.\u001b[29m\n",
            "\u001b[7m4. Inverse.\u001b[27m\n",
            "\u001b[1m5. Bold\u001b[0m\n",
            "\u001b[5m6. Blink\u001b[25m\n",
            "\u001b[3m\u001b[1m\u001b[4m\u001b[33m\u001b[101mWARNING!\u001b[0m Its April Fool!\n"
          ]
        }
      ]
    },
    {
      "cell_type": "markdown",
      "source": [
        "I was excited about the blink feature, and it would have been cool to see my text output blinking. However, I was NOT able to get it to work, neither on Colab, nor on PyCharm. I did not get any error when executing the code, but I also did not get the desired output. \n",
        "If you guys are able to get it to work, please share your work in the comments.\n",
        "\n",
        "NOTE: The inverse and strike outputs are not displayed properly using Colab, but works like a charm in PyCharm."
      ],
      "metadata": {
        "id": "EtqhyKNo7Xxf"
      }
    },
    {
      "cell_type": "markdown",
      "source": [
        "## Mute and Unmute Single Register-Object"
      ],
      "metadata": {
        "id": "bJWy2TiM5x67"
      }
    },
    {
      "cell_type": "markdown",
      "source": [
        "Sometimes it is useful to disable the formatting for a register-object. You can do so by invoking the mute method. You can also use the unmute method to unmute a previously muted register object.\n",
        "\n",
        "Let's see an example:"
      ],
      "metadata": {
        "id": "TRIfHT0u53Ei"
      }
    },
    {
      "cell_type": "code",
      "source": [
        "from sty import ef, fg, bg, rs\n",
        "\n",
        "ef.unmute()\n",
        "fg.unmute()\n",
        "bg.unmute()\n",
        "print(\"Muted ? \", fg.is_muted, bg.is_muted, ef.is_muted)\n",
        "\n",
        "a = ef.italic + \"1. Italic.\" + rs.italic\n",
        "b = ef.underl + \"2. Underline.\" + rs.underl\n",
        "c = ef.bold + \"3. Bold.\" + rs.all\n",
        "\n",
        "print(a, b, c, sep=\"\\n\")\n",
        "print()\n",
        "\n",
        "# ef.mute()\n",
        "# fg.mute()\n",
        "# bg.mute()\n",
        "print(\"Muted ? \", fg.is_muted, bg.is_muted, ef.is_muted)\n",
        "\n",
        "d = fg.red + \"4. Red.\" + fg.rs\n",
        "e = ef.bold + \"5. Bold\" + rs.all\n",
        "f = bg.green + \"6. Green\" + bg.rs\n",
        "\n",
        "print(d, e, f, sep=\"\\n\")\n",
        "print()\n",
        "\n",
        "ef.unmute()\n",
        "fg.unmute()\n",
        "bg.unmute()\n",
        "print(\"Muted ? \", fg.is_muted, bg.is_muted, ef.is_muted)"
      ],
      "metadata": {
        "colab": {
          "base_uri": "https://localhost:8080/"
        },
        "id": "WJjv0szU6DmC",
        "outputId": "04c2a160-437f-4f19-f20b-f6bdfdfabb4c"
      },
      "execution_count": 13,
      "outputs": [
        {
          "output_type": "stream",
          "name": "stdout",
          "text": [
            "Muted ?  False False False\n",
            "\u001b[3m1. Italic.\u001b[23m\n",
            "\u001b[4m2. Underline.\u001b[24m\n",
            "\u001b[1m3. Bold.\u001b[0m\n",
            "\n",
            "Muted ?  False False False\n",
            "\u001b[31m4. Red.\u001b[39m\n",
            "\u001b[1m5. Bold\u001b[0m\n",
            "\u001b[42m6. Green\u001b[49m\n",
            "\n",
            "Muted ?  False False False\n"
          ]
        }
      ]
    },
    {
      "cell_type": "markdown",
      "source": [
        "## Batch Mute/ Unmute Multiple Register-Objects"
      ],
      "metadata": {
        "id": "4QtFUsuqDl5F"
      }
    },
    {
      "cell_type": "markdown",
      "source": [
        "Use the `mute()` and `unmute()` functions to mute/ unmute multiple register-objects in a single batch.\n",
        "- Need to import mute and unmute\n",
        "- Pass multiple register-objects to the function.\n",
        "- Let's look at the last example code, and try to use batch mute/ unmute."
      ],
      "metadata": {
        "id": "OV1xNHDvDqRs"
      }
    },
    {
      "cell_type": "code",
      "source": [
        "from sty import ef, fg, bg, rs, mute, unmute\n",
        "\n",
        "unmute(ef, fg, bg, rs)\n",
        "print(\"Muted ? \", fg.is_muted, bg.is_muted, ef.is_muted)\n",
        "\n",
        "a = ef.italic + \"1. Italic.\" + rs.italic\n",
        "b = ef.underl + \"2. Underline.\" + rs.underl\n",
        "c = ef.bold + \"3. Bold.\" + rs.all\n",
        "\n",
        "print(a, b, c, sep=\"\\n\")\n",
        "print()\n",
        "\n",
        "mute(ef, fg, bg, rs)\n",
        "print(\"Muted ? \", fg.is_muted, bg.is_muted, ef.is_muted)\n",
        "\n",
        "d = fg.red + \"4. Red.\" + fg.rs\n",
        "e = ef.bold + \"5. Bold\" + rs.all\n",
        "f = bg.green + \"5. Green\" + bg.rs\n",
        "\n",
        "print(d, e, f, sep=\"\\n\")\n",
        "print()\n",
        "\n",
        "unmute(ef, fg, bg, rs)\n",
        "print(\"Muted ? \", fg.is_muted, bg.is_muted, ef.is_muted)"
      ],
      "metadata": {
        "colab": {
          "base_uri": "https://localhost:8080/"
        },
        "id": "Gb9adPKB8lLt",
        "outputId": "36f6ed24-7f2a-4f03-d34e-d486231a13db"
      },
      "execution_count": 14,
      "outputs": [
        {
          "output_type": "stream",
          "name": "stdout",
          "text": [
            "Muted ?  False False False\n",
            "\u001b[3m1. Italic.\u001b[23m\n",
            "\u001b[4m2. Underline.\u001b[24m\n",
            "\u001b[1m3. Bold.\u001b[0m\n",
            "\n",
            "Muted ?  True True True\n",
            "4. Red.\n",
            "5. Bold\n",
            "5. Green\n",
            "\n",
            "Muted ?  False False False\n"
          ]
        }
      ]
    },
    {
      "cell_type": "markdown",
      "source": [
        "## Additional Code #1"
      ],
      "metadata": {
        "id": "6MbdX9RzunwC"
      }
    },
    {
      "cell_type": "code",
      "source": [
        "from sty import bg, fg, rs\n",
        "\n",
        "a = fg.li_blue + \"I have a light blue foreground.\" + rs.fg\n",
        "b = bg.cyan + \"I have a cyan background\" + rs.bg\n",
        "c = fg.da_red + bg.li_red + \"I have a dark red fg and light red bg.\" + rs.all\n",
        "d = fg(\"green\") + \"I have green fg.\" + rs.fg\n",
        "e = fg(12) + \"I have a light blue foreground.\" + rs.fg\n",
        "f = fg(256, 256, 256) + bg(\"yellow\") + \"I have a white fg and yellow bg.\" + rs.all\n",
        "\n",
        "print(a, b, c, d, e, f, sep=\"\\n\")"
      ],
      "metadata": {
        "colab": {
          "base_uri": "https://localhost:8080/"
        },
        "id": "HHxvuuMpu51h",
        "outputId": "c44ffda2-edcb-46ea-d3a4-0dcd32ab5f3a"
      },
      "execution_count": 28,
      "outputs": [
        {
          "output_type": "stream",
          "name": "stdout",
          "text": [
            "\u001b[94mI have a light blue foreground.\u001b[39m\n",
            "\u001b[46mI have a cyan background\u001b[49m\n",
            "\u001b[38;5;88m\u001b[101mI have a dark red fg and light red bg.\u001b[0m\n",
            "\u001b[32mI have green fg.\u001b[39m\n",
            "\u001b[38;5;12mI have a light blue foreground.\u001b[39m\n",
            "\u001b[38;2;256;256;256m\u001b[43mI have a white fg and yellow bg.\u001b[0m\n"
          ]
        }
      ]
    },
    {
      "cell_type": "markdown",
      "source": [
        "## Additional Code #2 (RAINBOW STRIPES)"
      ],
      "metadata": {
        "id": "AHaBNYmNlnAt"
      }
    },
    {
      "cell_type": "code",
      "source": [
        "from sty import bg, fg, rs, ef\n",
        "\n",
        "r = fg(0, 0, 0) + bg(255, 0, 0) + ef.b + \"A part of 7 rainbow colors.\"\n",
        "o = fg(0) + bg(255, 165, 0) + ef.u +\"A part of 7 rainbow colors.\" + rs.all\n",
        "y = fg(256, 0, 0) + bg(255, 255, 0) + ef.u +\"A part of 7 rainbow colors.\" + rs.all\n",
        "g = fg(\"white\") + bg(0, 128, 0) + ef.i + \"A part of 7 rainbow colors.\" + rs.all\n",
        "b = fg(256, 256, 256) + bg(0, 0, 255) + \"A part of 7 rainbow colors.\" + rs.all\n",
        "i = fg(256, 256, 256) + bg(75, 0, 130) + \"A part of 7 rainbow colors.\" + rs.all\n",
        "v = fg(\"yellow\") + bg(155,38,182) + \"A part of 7 rainbow colors.\" + rs.all\n",
        "\n",
        "print(r, o, y, g, b, i, v, sep=\"\\n\")"
      ],
      "metadata": {
        "colab": {
          "base_uri": "https://localhost:8080/"
        },
        "id": "wRR6eepFloX3",
        "outputId": "38274912-b0a3-4af6-be4a-889ffbbe4535"
      },
      "execution_count": 60,
      "outputs": [
        {
          "output_type": "stream",
          "name": "stdout",
          "text": [
            "\u001b[38;2;0;0;0m\u001b[48;2;255;0;0m\u001b[1mA part of 7 rainbow colors.\n",
            "\u001b[38;5;0m\u001b[48;2;255;165;0m\u001b[4mA part of 7 rainbow colors.\u001b[0m\n",
            "\u001b[38;2;256;0;0m\u001b[48;2;255;255;0m\u001b[4mA part of 7 rainbow colors.\u001b[0m\n",
            "\u001b[97m\u001b[48;2;0;128;0m\u001b[3mA part of 7 rainbow colors.\u001b[0m\n",
            "\u001b[38;2;256;256;256m\u001b[48;2;0;0;255mA part of 7 rainbow colors.\u001b[0m\n",
            "\u001b[38;2;256;256;256m\u001b[48;2;75;0;130mA part of 7 rainbow colors.\u001b[0m\n",
            "\u001b[33m\u001b[48;2;155;38;182mA part of 7 rainbow colors.\u001b[0m\n"
          ]
        }
      ]
    }
  ]
}