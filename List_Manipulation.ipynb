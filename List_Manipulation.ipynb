{
  "nbformat": 4,
  "nbformat_minor": 0,
  "metadata": {
    "colab": {
      "name": "List Manipulation.ipynb",
      "provenance": [],
      "collapsed_sections": [
        "oncH5dwwB8Xy",
        "0HEosIh4CMg4",
        "6MG-LriuGGsI"
      ],
      "authorship_tag": "ABX9TyMYyFlY+kaJCPAErdYrxyeA",
      "include_colab_link": true
    },
    "kernelspec": {
      "name": "python3",
      "display_name": "Python 3"
    },
    "language_info": {
      "name": "python"
    }
  },
  "cells": [
    {
      "cell_type": "markdown",
      "metadata": {
        "id": "view-in-github",
        "colab_type": "text"
      },
      "source": [
        "<a href=\"https://colab.research.google.com/github/ComputingUntangled/Python-for-Beginners/blob/main/List_Manipulation.ipynb\" target=\"_parent\"><img src=\"https://colab.research.google.com/assets/colab-badge.svg\" alt=\"Open In Colab\"/></a>"
      ]
    },
    {
      "cell_type": "markdown",
      "source": [
        "# Basic working with List Data Types\n",
        "Hello folks! In this tutorial, we will learn about the list datatypes, starting from some basic concepts, to using built-in functions available in Python.\n",
        "\n",
        "\n",
        "As you can see, Python has many different datatypes, and list is just one of them. If you want to learn about all these different datatypes in Python, I have another tutorial video just for that. You can get the link to that video in the description down below. But in this tutorial, we will strictly work with list datatype.\n",
        "\n",
        "In a nutshell, list is one of the most used datatype in Python and is very flexible. List is an ordered, mutable sequence of items, and is used to store multiple items in a single variable. \n",
        "\n",
        "before we begin, don't forget to hit the like and the subscribe button to get more content like this.\n",
        "\n",
        "So, let's get into it and get some real valuable skill in working with list datatype."
      ],
      "metadata": {
        "id": "bmxqmC6nAtLs"
      }
    },
    {
      "cell_type": "code",
      "execution_count": null,
      "metadata": {
        "colab": {
          "base_uri": "https://localhost:8080/"
        },
        "id": "_NzE6xH2GxhL",
        "outputId": "dd50fbd6-0145-4a86-914c-e32b090d0d0f"
      },
      "outputs": [
        {
          "output_type": "stream",
          "name": "stdout",
          "text": [
            "[0, 1, 2, 3, 4, 5, 6, 7, 8, 9, 10]\n"
          ]
        }
      ],
      "source": [
        "\"\"\" We use square brackets [ ] to create list in Python. \n",
        "Items in a list are separated by commas.\"\"\"\n",
        "numbers = [0, 1, 2, 3, 4, 5, 6, 7, 8, 9, 10]\n",
        "print(numbers)"
      ]
    },
    {
      "cell_type": "code",
      "source": [
        "\"\"\" single item list (also allows ending with a comma)   \"\"\"\n",
        "new_list = [\"a,\"]\n",
        "print(new_list)\n",
        "print(type(new_list))"
      ],
      "metadata": {
        "id": "5OwaBtNUAJPF"
      },
      "execution_count": null,
      "outputs": []
    },
    {
      "cell_type": "markdown",
      "source": [
        "## Creating a list using the list() Constructor"
      ],
      "metadata": {
        "id": "pBkKtC3ViW9U"
      }
    },
    {
      "cell_type": "code",
      "source": [
        "my_tuple = (1, 2, 3)\n",
        "my_list = list(my_tuple)  # using list() Constructor\n",
        "print(my_tuple, type(my_tuple))\n",
        "print(my_list, type(my_list))"
      ],
      "metadata": {
        "colab": {
          "base_uri": "https://localhost:8080/"
        },
        "id": "u44PcamWiR9k",
        "outputId": "37f42e2f-16fc-49a9-d411-e36579faf6d9"
      },
      "execution_count": null,
      "outputs": [
        {
          "output_type": "stream",
          "name": "stdout",
          "text": [
            "(1, 2, 3) <class 'tuple'>\n",
            "[1, 2, 3] <class 'list'>\n"
          ]
        }
      ]
    },
    {
      "cell_type": "markdown",
      "source": [
        "## All the items in a list do not need to be of the same type."
      ],
      "metadata": {
        "id": "-uT9saA6BG18"
      }
    },
    {
      "cell_type": "code",
      "source": [
        "mixed_list = [100, 9.4, \"examples\", '8.334', True, None, [1, 2]]\n",
        "print(mixed_list)\n",
        "print(len(mixed_list))"
      ],
      "metadata": {
        "colab": {
          "base_uri": "https://localhost:8080/"
        },
        "id": "Ai5UlUjr_wH2",
        "outputId": "44a0c328-66a3-4638-c2f8-4821b052a4fc"
      },
      "execution_count": null,
      "outputs": [
        {
          "output_type": "stream",
          "name": "stdout",
          "text": [
            "[100, 9.4, 'examples', '8.334', True, None, [1, 2]]\n",
            "7\n"
          ]
        }
      ]
    },
    {
      "cell_type": "markdown",
      "source": [
        "## Indexing in list and Accessing list items"
      ],
      "metadata": {
        "id": "oncH5dwwB8Xy"
      }
    },
    {
      "cell_type": "code",
      "source": [
        "mixed_list = [100, 9.4, \"examples\", '8.334', True, None, [1, 2]]\n",
        "print(mixed_list[0])\n",
        "print(mixed_list[3])\n",
        "print(mixed_list[-1])\n",
        "print(mixed_list[-3])\n",
        "print(mixed_list[-1][1])  # Nested lists are accessed using nested indexing. "
      ],
      "metadata": {
        "colab": {
          "base_uri": "https://localhost:8080/"
        },
        "id": "LJb68r2nCCIL",
        "outputId": "b347da63-d35e-4e68-9499-7da953f14046"
      },
      "execution_count": null,
      "outputs": [
        {
          "output_type": "stream",
          "name": "stdout",
          "text": [
            "100\n",
            "8.334\n",
            "[1, 2]\n",
            "True\n",
            "2\n"
          ]
        }
      ]
    },
    {
      "cell_type": "markdown",
      "source": [
        "## The list is mutable, and allow duplicate items"
      ],
      "metadata": {
        "id": "0HEosIh4CMg4"
      }
    },
    {
      "cell_type": "code",
      "source": [
        "mixed_list[-2] = 'STOP'\n",
        "mixed_list[0] = mixed_list[5]\n",
        "print(mixed_list)"
      ],
      "metadata": {
        "colab": {
          "base_uri": "https://localhost:8080/"
        },
        "id": "o0gSKo6dCQL4",
        "outputId": "79144bda-2d23-458f-d438-95b0f5631e7c"
      },
      "execution_count": null,
      "outputs": [
        {
          "output_type": "stream",
          "name": "stdout",
          "text": [
            "[None, 9.4, 'examples', '8.334', 'STOP', None]\n"
          ]
        }
      ]
    },
    {
      "cell_type": "markdown",
      "source": [
        "## The len() function \n",
        "to get the number of elements currently stored inside the list"
      ],
      "metadata": {
        "id": "6MG-LriuGGsI"
      }
    },
    {
      "cell_type": "code",
      "source": [
        "print(len(mixed_list))"
      ],
      "metadata": {
        "colab": {
          "base_uri": "https://localhost:8080/"
        },
        "id": "T2XSdUM9CPmy",
        "outputId": "466dc9d0-6185-4dc5-94c2-b67c2a78c071"
      },
      "execution_count": null,
      "outputs": [
        {
          "output_type": "stream",
          "name": "stdout",
          "text": [
            "6\n"
          ]
        }
      ]
    },
    {
      "cell_type": "markdown",
      "source": [
        "## Keep IndexError in mind (index out of range)\n"
      ],
      "metadata": {
        "id": "-7eIzJmOHPPf"
      }
    },
    {
      "cell_type": "code",
      "source": [
        "print(mixed_list[6])    # will give IndexError\n",
        "print(mixed_list[-7])   # will give IndexError"
      ],
      "metadata": {
        "id": "uBYnB7DnHg3-"
      },
      "execution_count": null,
      "outputs": []
    },
    {
      "cell_type": "markdown",
      "source": [
        "## Check if Item Exists in list"
      ],
      "metadata": {
        "id": "AOrWgr97KVai"
      }
    },
    {
      "cell_type": "code",
      "source": [
        "print(\"exists\") if 'examples' in mixed_list else print(\"does not exist\")\n",
        "  "
      ],
      "metadata": {
        "id": "CoIXV6p4KYGJ"
      },
      "execution_count": null,
      "outputs": []
    },
    {
      "cell_type": "markdown",
      "source": [
        "## The slicing operation with list"
      ],
      "metadata": {
        "id": "Kj-9ewv0H51W"
      }
    },
    {
      "cell_type": "code",
      "source": [
        "print(mixed_list)\n",
        "print(mixed_list[2:5]) # index 2 included and index 5 not included\n",
        "print(mixed_list[0:5])\n",
        "print(mixed_list[:5])\n",
        "print(mixed_list[:-1])\n",
        "print(mixed_list[-2:])\n",
        "print(mixed_list[:])"
      ],
      "metadata": {
        "id": "4uDXk6eGIDVu"
      },
      "execution_count": null,
      "outputs": []
    },
    {
      "cell_type": "markdown",
      "source": [
        "# Techniques to update a list"
      ],
      "metadata": {
        "id": "0g6k2hF7RLf7"
      }
    },
    {
      "cell_type": "markdown",
      "source": [
        "## Using slicing technique to replace values in a list"
      ],
      "metadata": {
        "id": "AoqgEfk4Ld9G"
      }
    },
    {
      "cell_type": "code",
      "source": [
        "mixed_list = [100, 9.4, \"examples\", '8.334', True, None]\n",
        "mixed_list[1:2] = [\"Y\", \"N\"]  # Change the 2nd value by replacing it with 2 values\n",
        "print(mixed_list)\n",
        "mixed_list[1:3] = [9.4]  # Change the 2nd & 3rd values by replacing it with 1 value\n",
        "print(mixed_list)"
      ],
      "metadata": {
        "colab": {
          "base_uri": "https://localhost:8080/"
        },
        "id": "xSgGOa7pLcnI",
        "outputId": "1c672397-f152-49a7-bf4d-9ee83c482224"
      },
      "execution_count": null,
      "outputs": [
        {
          "output_type": "stream",
          "name": "stdout",
          "text": [
            "[100, 'Y', 'N', 'examples', '8.334', True, None]\n",
            "[100, 9.4, 'examples', '8.334', True, None]\n"
          ]
        }
      ]
    },
    {
      "cell_type": "markdown",
      "source": [
        "## Using slicing technique to empty a list."
      ],
      "metadata": {
        "id": "zf2PAbUpYBQQ"
      }
    },
    {
      "cell_type": "code",
      "source": [
        "mixed_list = [100, 9.4, \"examples\", '8.334', True, None, 'watermelon']\n",
        "mixed_list[:] = []\n",
        "print(mixed_list)\n",
        "print(len(mixed_list))"
      ],
      "metadata": {
        "colab": {
          "base_uri": "https://localhost:8080/"
        },
        "id": "bqgfHyVRYCHw",
        "outputId": "abbafcda-5500-4d93-b194-415d60a02ae0"
      },
      "execution_count": null,
      "outputs": [
        {
          "output_type": "stream",
          "name": "stdout",
          "text": [
            "[]\n",
            "0\n"
          ]
        }
      ]
    },
    {
      "cell_type": "markdown",
      "source": [
        "## Insert Items to an existing list\n",
        "While we can change/replace a range of Item Values using slicing technique, to insert a new list item, without replacing any of the existing values, we can use the insert() method."
      ],
      "metadata": {
        "id": "dJZ-DXxgLdEm"
      }
    },
    {
      "cell_type": "code",
      "source": [
        "mixed_list = [100, 9.4, \"examples\", '8.334', True, None]\n",
        "print(mixed_list)\n",
        "print(len(mixed_list))\n",
        "\n",
        "mixed_list.insert(2, \"watermelon\")\n",
        "print(mixed_list)\n",
        "print(len(mixed_list))"
      ],
      "metadata": {
        "colab": {
          "base_uri": "https://localhost:8080/"
        },
        "id": "pvDDynBkLc6X",
        "outputId": "ebf435f0-3b19-4ad5-f81b-93972784b9f7"
      },
      "execution_count": null,
      "outputs": [
        {
          "output_type": "stream",
          "name": "stdout",
          "text": [
            "[100, 9.4, 'examples', '8.334', True, None]\n",
            "6\n",
            "[100, 9.4, 'watermelon', 'examples', '8.334', True, None]\n",
            "7\n"
          ]
        }
      ]
    },
    {
      "cell_type": "markdown",
      "source": [
        "## Using append() method to append item to the end of the list\n",
        "e.g. add new contact to an existing contact list"
      ],
      "metadata": {
        "id": "OyunNHKYOfyJ"
      }
    },
    {
      "cell_type": "code",
      "source": [
        "mixed_list = [100, 9.4, \"examples\", '8.334', True, None]\n",
        "print(mixed_list)\n",
        "print(len(mixed_list))\n",
        "\n",
        "mixed_list.append(\"watermelon\")\n",
        "print(mixed_list)\n",
        "print(len(mixed_list))"
      ],
      "metadata": {
        "colab": {
          "base_uri": "https://localhost:8080/"
        },
        "id": "LY7ppwbrOjIJ",
        "outputId": "19beb5e1-41fd-4179-e5fc-abae1b7c8222"
      },
      "execution_count": null,
      "outputs": [
        {
          "output_type": "stream",
          "name": "stdout",
          "text": [
            "[100, 9.4, 'examples', '8.334', True, None]\n",
            "6\n",
            "[100, 9.4, 'examples', '8.334', True, None, 'watermelon']\n",
            "7\n"
          ]
        }
      ]
    },
    {
      "cell_type": "markdown",
      "source": [
        "## Using remove() method to delete item from a list by item value\n",
        "e.g. remove a username from a register using username value"
      ],
      "metadata": {
        "id": "m13YRvjrPnA_"
      }
    },
    {
      "cell_type": "code",
      "source": [
        "mixed_list = [100, 9.4, \"examples\", '8.334', True, None]\n",
        "print(mixed_list)\n",
        "print(len(mixed_list))\n",
        "\n",
        "mixed_list.remove(100)\n",
        "print(mixed_list)\n",
        "print(len(mixed_list))"
      ],
      "metadata": {
        "colab": {
          "base_uri": "https://localhost:8080/"
        },
        "id": "BM8ztPFEPnXo",
        "outputId": "014720ed-192a-41b0-ab1c-83b91a91160d"
      },
      "execution_count": null,
      "outputs": [
        {
          "output_type": "stream",
          "name": "stdout",
          "text": [
            "[100, 9.4, 'examples', '8.334', True, None]\n",
            "6\n",
            "[9.4, 'examples', '8.334', True, None]\n",
            "5\n"
          ]
        }
      ]
    },
    {
      "cell_type": "markdown",
      "source": [
        "## Using pop() method to remove item from the end of the list\n",
        "e.g. draw a card from top of a shuffled deck"
      ],
      "metadata": {
        "id": "Y8k5fdSiOvEC"
      }
    },
    {
      "cell_type": "code",
      "source": [
        "mixed_list = [100, 9.4, \"examples\", '8.334', True, None, 'watermelon']\n",
        "print(mixed_list)\n",
        "print(len(mixed_list))\n",
        "\n",
        "mixed_list.pop()\n",
        "print(mixed_list)\n",
        "print(len(mixed_list))"
      ],
      "metadata": {
        "colab": {
          "base_uri": "https://localhost:8080/"
        },
        "id": "SxEzZ7ViO1GA",
        "outputId": "ce55c765-6adf-4484-d84a-97095924d6ba"
      },
      "execution_count": null,
      "outputs": [
        {
          "output_type": "stream",
          "name": "stdout",
          "text": [
            "[100, 9.4, 'examples', '8.334', True, None, 'watermelon']\n",
            "7\n",
            "[100, 9.4, 'examples', '8.334', True, None]\n",
            "6\n"
          ]
        }
      ]
    },
    {
      "cell_type": "markdown",
      "source": [
        "## Using pop() method to remove item from a list by index value"
      ],
      "metadata": {
        "id": "bAA-0PIKQOLO"
      }
    },
    {
      "cell_type": "code",
      "source": [
        "mixed_list = [100, 9.4, \"examples\", '8.334', True, None, 'watermelon']\n",
        "print(mixed_list)\n",
        "print(len(mixed_list))\n",
        "\n",
        "mixed_list.pop(5)\n",
        "print(mixed_list)\n",
        "print(len(mixed_list))"
      ],
      "metadata": {
        "id": "XckYm4-SSYJ5"
      },
      "execution_count": null,
      "outputs": []
    },
    {
      "cell_type": "markdown",
      "source": [
        "## using del keyword to remove item from a list by index value"
      ],
      "metadata": {
        "id": "Py1J0tzjSjYa"
      }
    },
    {
      "cell_type": "code",
      "source": [
        "mixed_list = [100, 9.4, \"examples\", '8.334', True, None, 'watermelon']\n",
        "print(mixed_list)\n",
        "print(len(mixed_list))\n",
        "\n",
        "del mixed_list[5]\n",
        "print(mixed_list)\n",
        "print(len(mixed_list))"
      ],
      "metadata": {
        "colab": {
          "base_uri": "https://localhost:8080/"
        },
        "id": "mPv1bxEGSnzQ",
        "outputId": "99d24d33-d8a3-44df-994f-9b32bfc655fd"
      },
      "execution_count": null,
      "outputs": [
        {
          "output_type": "stream",
          "name": "stdout",
          "text": [
            "[100, 9.4, 'examples', '8.334', True, None, 'watermelon']\n",
            "7\n",
            "[100, 9.4, 'examples', '8.334', True, 'watermelon']\n",
            "6\n"
          ]
        }
      ]
    },
    {
      "cell_type": "markdown",
      "source": [
        "## using del keyword to remove a list completely"
      ],
      "metadata": {
        "id": "vKWbF9uuTJW3"
      }
    },
    {
      "cell_type": "code",
      "source": [
        "mixed_list = [100, 9.4, \"examples\", '8.334', True, None, 'watermelon']\n",
        "print(mixed_list)\n",
        "print(len(mixed_list))\n",
        "\n",
        "del mixed_list\n",
        "print(mixed_list)   # NameError"
      ],
      "metadata": {
        "id": "jZ3luDO_TO4_"
      },
      "execution_count": null,
      "outputs": []
    },
    {
      "cell_type": "markdown",
      "source": [
        "## Using clear() method to empty a list."
      ],
      "metadata": {
        "id": "8VXCK0EsTdwY"
      }
    },
    {
      "cell_type": "code",
      "source": [
        "mixed_list = [100, 9.4, \"examples\", '8.334', True, None, 'watermelon']\n",
        "print(mixed_list)\n",
        "print(len(mixed_list))\n",
        "\n",
        "mixed_list.clear()\n",
        "print(mixed_list)\n",
        "print(len(mixed_list))"
      ],
      "metadata": {
        "colab": {
          "base_uri": "https://localhost:8080/"
        },
        "id": "cqTchoQ-TkPp",
        "outputId": "0f5f8b9b-7c5a-4e28-b30e-fb8db812140b"
      },
      "execution_count": null,
      "outputs": [
        {
          "output_type": "stream",
          "name": "stdout",
          "text": [
            "[100, 9.4, 'examples', '8.334', True, None, 'watermelon']\n",
            "7\n",
            "[]\n",
            "0\n"
          ]
        }
      ]
    },
    {
      "cell_type": "markdown",
      "source": [
        "## Using extend() method to append/ extent a list with other iterables\n",
        "e.g. add several items"
      ],
      "metadata": {
        "id": "1_sUJ2MtT0cI"
      }
    },
    {
      "cell_type": "code",
      "source": [
        "mixed_list = [100, 9.4, \"examples\", '8.334', True, None, 'watermelon']\n",
        "print(mixed_list)\n",
        "print(len(mixed_list))\n",
        "\n",
        "new_iterables = (1, 2)\n",
        "mixed_list.extend(new_iterables)\n",
        "print(mixed_list)\n",
        "print(len(mixed_list))"
      ],
      "metadata": {
        "colab": {
          "base_uri": "https://localhost:8080/"
        },
        "id": "vCLznEu_T7qv",
        "outputId": "4df5bd52-3068-4561-c732-5de63d6e5683"
      },
      "execution_count": null,
      "outputs": [
        {
          "output_type": "stream",
          "name": "stdout",
          "text": [
            "[100, 9.4, 'examples', '8.334', True, None, 'watermelon']\n",
            "7\n",
            "[100, 9.4, 'examples', '8.334', True, None, 'watermelon', 1, 2]\n",
            "9\n"
          ]
        }
      ]
    },
    {
      "cell_type": "markdown",
      "source": [
        "## Concatenating/ joining 2 Lists using + operator\n",
        "One of the easiest ways to jion 2 lists"
      ],
      "metadata": {
        "id": "zkaOT0YUXgGI"
      }
    },
    {
      "cell_type": "code",
      "source": [
        "mixed_list = [100, 9.4, \"examples\", '8.334', True, None, 'watermelon']\n",
        "new_iterables = [1, 2, 3]\n",
        "print(mixed_list + new_iterables)"
      ],
      "metadata": {
        "id": "aALDARrsXm6_"
      },
      "execution_count": null,
      "outputs": []
    },
    {
      "cell_type": "markdown",
      "source": [
        "## Sort List Alphanumerically\n"
      ],
      "metadata": {
        "id": "iebQRgGnZfFk"
      }
    },
    {
      "cell_type": "code",
      "source": [
        "mixed_list = [\"examples\", '8.334', 'watermelon']\n",
        "print(mixed_list)\n",
        "\n",
        "mixed_list.sort()\n",
        "print(mixed_list)\n",
        "\n",
        "# To sort descending, use the keyword argument reverse\n",
        "mixed_list.sort(reverse = True) \n",
        "print(mixed_list)"
      ],
      "metadata": {
        "colab": {
          "base_uri": "https://localhost:8080/"
        },
        "id": "zd3RaoPQZi-k",
        "outputId": "b732f025-92c2-4b37-dbc2-c4d1649a39ac"
      },
      "execution_count": null,
      "outputs": [
        {
          "output_type": "stream",
          "name": "stdout",
          "text": [
            "['examples', '8.334', 'watermelon']\n",
            "['8.334', 'examples', 'watermelon']\n",
            "['8.334', 'examples', 'watermelon']\n"
          ]
        }
      ]
    },
    {
      "cell_type": "markdown",
      "source": [
        "## Reverse the order of a list, regardless of the alphabet"
      ],
      "metadata": {
        "id": "aiT8vV6raVyz"
      }
    },
    {
      "cell_type": "code",
      "source": [
        "mixed_list = [100, 9.4, \"examples\", '8.334', True, None, 'watermelon']\n",
        "print(mixed_list)\n",
        "print(len(mixed_list))\n",
        "\n",
        "mixed_list.reverse()\n",
        "print(mixed_list)\n",
        "print(len(mixed_list))"
      ],
      "metadata": {
        "colab": {
          "base_uri": "https://localhost:8080/"
        },
        "id": "_kZsWR28aZOU",
        "outputId": "e8f8ab01-fd31-4372-d2e1-911392637a7c"
      },
      "execution_count": null,
      "outputs": [
        {
          "output_type": "stream",
          "name": "stdout",
          "text": [
            "[100, 9.4, 'examples', '8.334', True, None, 'watermelon']\n",
            "7\n",
            "['watermelon', None, True, '8.334', 'examples', 9.4, 100]\n",
            "7\n"
          ]
        }
      ]
    },
    {
      "cell_type": "markdown",
      "source": [
        "# Other useful functions "
      ],
      "metadata": {
        "id": "3XQj8zEobeJ5"
      }
    },
    {
      "cell_type": "markdown",
      "source": [
        "## copy"
      ],
      "metadata": {
        "id": "7wlxDXAkbkM4"
      }
    },
    {
      "cell_type": "code",
      "source": [
        "# Although list2 = list1 creates a new variable named list 2\n",
        "# list2 will only be a reference to list1, and \n",
        "# changes made in list1 will automatically also be made in list2\n",
        "mixed_list = [100, 9.4, \"examples\", '8.334', True, None]\n",
        "copy_list = mixed_list\n",
        "\n",
        "del mixed_list[5]\n",
        "print(copy_list, len(copy_list), id(copy_list))\n",
        "print(mixed_list, len(mixed_list), id(mixed_list))\n",
        "\n",
        "del mixed_list\n",
        "print(copy_list, len(copy_list), id(copy_list))\n",
        "# print(mixed_list)  # NameError"
      ],
      "metadata": {
        "colab": {
          "base_uri": "https://localhost:8080/"
        },
        "id": "uY2PxZtTdtP8",
        "outputId": "8889462c-bcc1-4ba6-c3b0-01f8623706b9"
      },
      "execution_count": null,
      "outputs": [
        {
          "output_type": "stream",
          "name": "stdout",
          "text": [
            "[100, 9.4, 'examples', '8.334', True] 5 140395577831904\n",
            "[100, 9.4, 'examples', '8.334', True] 5 140395577831904\n",
            "[100, 9.4, 'examples', '8.334', True] 5 140395577831904\n"
          ]
        }
      ]
    },
    {
      "cell_type": "code",
      "source": [
        "mixed_list = [100, 9.4, \"examples\", '8.334', True, None]\n",
        "copy_list = mixed_list.copy()\n",
        "print(copy_list, len(copy_list), id(copy_list))\n",
        "print(mixed_list, len(mixed_list), id(mixed_list))"
      ],
      "metadata": {
        "colab": {
          "base_uri": "https://localhost:8080/"
        },
        "id": "5wOngnU_dArO",
        "outputId": "ef917598-4eb5-4a8f-f54f-909a01365585"
      },
      "execution_count": null,
      "outputs": [
        {
          "output_type": "stream",
          "name": "stdout",
          "text": [
            "[100, 9.4, 'examples', '8.334', True, None] 6 140395577831824\n",
            "[100, 9.4, 'examples', '8.334', True, None] 6 140395596352480\n"
          ]
        }
      ]
    },
    {
      "cell_type": "code",
      "source": [
        "mixed_list = [100, 9.4, \"examples\", '8.334', True, None]\n",
        "copy_list = list(mixed_list)\n",
        "print(copy_list, len(copy_list), id(copy_list))\n",
        "print(mixed_list, len(mixed_list), id(mixed_list))"
      ],
      "metadata": {
        "colab": {
          "base_uri": "https://localhost:8080/"
        },
        "id": "L1h6Ww9GgOK3",
        "outputId": "38fc3d24-3657-4650-9ee2-6521c69e45fb"
      },
      "execution_count": null,
      "outputs": [
        {
          "output_type": "stream",
          "name": "stdout",
          "text": [
            "[100, 9.4, 'examples', '8.334', True, None] 6 140395578740640\n",
            "[100, 9.4, 'examples', '8.334', True, None] 6 140395578290000\n"
          ]
        }
      ]
    },
    {
      "cell_type": "markdown",
      "source": [
        "## index() and count() methods\n",
        "index() returns the index of the first element with the specified value\n",
        "\n",
        "count() returns the number of elements with the specified value"
      ],
      "metadata": {
        "id": "Bf4WRKJjbwF_"
      }
    },
    {
      "cell_type": "code",
      "source": [
        "mixed_list = [100, 9.4, \"examples\", '8.334', True, None, 100, None]\n",
        "print(mixed_list.index(None), mixed_list.count(None))"
      ],
      "metadata": {
        "colab": {
          "base_uri": "https://localhost:8080/"
        },
        "id": "K438FlMygmJn",
        "outputId": "45f34950-829f-4acb-8fea-ee0ef7b27465"
      },
      "execution_count": null,
      "outputs": [
        {
          "output_type": "stream",
          "name": "stdout",
          "text": [
            "5 2\n"
          ]
        }
      ]
    }
  ]
}