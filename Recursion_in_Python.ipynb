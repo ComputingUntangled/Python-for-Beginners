{
  "nbformat": 4,
  "nbformat_minor": 0,
  "metadata": {
    "colab": {
      "name": "Recursion in Python.ipynb",
      "provenance": [],
      "collapsed_sections": [],
      "authorship_tag": "ABX9TyOhsR9WJGqK62j7ym7ClnFY",
      "include_colab_link": true
    },
    "kernelspec": {
      "name": "python3",
      "display_name": "Python 3"
    },
    "language_info": {
      "name": "python"
    }
  },
  "cells": [
    {
      "cell_type": "markdown",
      "metadata": {
        "id": "view-in-github",
        "colab_type": "text"
      },
      "source": [
        "<a href=\"https://colab.research.google.com/github/ComputingUntangled/Python-for-Beginners/blob/main/Recursion_in_Python.ipynb\" target=\"_parent\"><img src=\"https://colab.research.google.com/assets/colab-badge.svg\" alt=\"Open In Colab\"/></a>"
      ]
    },
    {
      "cell_type": "markdown",
      "source": [
        "# Recursion in Python"
      ],
      "metadata": {
        "id": "-PYcyngIP3Ke"
      }
    },
    {
      "cell_type": "markdown",
      "source": [
        "Click [here](https://youtu.be/kNDI8X6-ozk) to watch this tutorial on YouTube."
      ],
      "metadata": {
        "id": "vQvFGjpBgax_"
      }
    },
    {
      "cell_type": "markdown",
      "source": [
        "There! \n",
        "\n",
        "In this tutorial, we will learn about Recursive Functions in Python.\n",
        "\n",
        "So, what is recursion?\n",
        "Recursion is a common mathematical and programming concept. In terms of functional programming, recursion means that a function calls itself.\n",
        "\n",
        "Python allows a function to invoke itself, or invoke recursively and is known as **Recursive Function**. \n",
        "\n",
        "So, let's get started by looking at some examples."
      ],
      "metadata": {
        "id": "qxtUvr9wP80l"
      }
    },
    {
      "cell_type": "markdown",
      "source": [
        "## Recursive Addition"
      ],
      "metadata": {
        "id": "bD_Itwrxa1_4"
      }
    },
    {
      "cell_type": "markdown",
      "source": [
        "Let's start with something really simple. So this first example I am about to show is based on a question posted to me by one of my followers YouTube, by the name lirit.\n",
        "In this functions, I am going to add all the non-negative numbers starting from the user provided value n, down to zero. This is a recursive addition function."
      ],
      "metadata": {
        "id": "fjb1sqlSaLBR"
      }
    },
    {
      "cell_type": "code",
      "execution_count": null,
      "metadata": {
        "colab": {
          "base_uri": "https://localhost:8080/"
        },
        "id": "dsXy3SrxPy2z",
        "outputId": "df5b9c06-453c-4825-87e9-15f75e11c265"
      },
      "outputs": [
        {
          "output_type": "stream",
          "name": "stdout",
          "text": [
            "10\n"
          ]
        }
      ],
      "source": [
        "#recursive addition\n",
        "\n",
        "def fun(n):\n",
        "    if n == 1:\n",
        "        return n;\n",
        "    else:\n",
        "        return n + fun(n-1)\n",
        "        \n",
        "        \n",
        "print(fun(4))"
      ]
    },
    {
      "cell_type": "markdown",
      "source": [
        "\n",
        "What is happening here is that the function call is happening within a print statement in line 10. When we invoke the function with fun(4), the return \"n + fun(n-1)\" will return:\n",
        "\n",
        "\n",
        "   4 + fun(4-1) <br>\n",
        "= 4 + fun(3)<br>\n",
        "= 4 + 3 + fun(3-1)<br>\n",
        "= 4 + 3 + fun(2)<br>\n",
        "= 4 + 3 + 2 + fun(2-1)<br>\n",
        "= 4 + 3 + 2 + fun(1)<br>\n",
        "= 4 + 3 + 2 + 1<br>\n",
        "= 10\n",
        "\n",
        "So, we are basically adding 4, 3, 2 and 1 and getting 10 as output."
      ],
      "metadata": {
        "id": "mTEb6iCYeWRS"
      }
    },
    {
      "cell_type": "markdown",
      "source": [
        "The function fun(n) will return 1 ONLY if n is equal to 1, otherwise, it will return n + fun(n-1). This is an example of classic recursive function where yowe u call the same function fun() within its definition. So long as the number \"n\" is not 1, at each invocation, we will decrement the number by 1 and add it to the previous returned valued.\n",
        "\n",
        "\n",
        "Note that in this case, the recursion will stop ONLY when the \"return 1\" statement is reached. In other words, as long as return 1 is not reached during execution, the recursion will invoke the function again and again. This will sometimes result in a situation where the recursion will reach the maximum threshold. For e.g. if you modify line 6 with fun(-4) you will never reach line 3 (return 1) because you started n with a negative number (-4) and you will decrement the number by 1 at each recursion and therefore n==1 (line 2) will never be true. Try your code with 0 or any negative number, and your function will loop until you reach RecursionError (maximum recursion depth exceeded...)."
      ],
      "metadata": {
        "id": "7KaiMBezehTZ"
      }
    },
    {
      "cell_type": "markdown",
      "source": [
        "## Things to keep in mind regarding recursion"
      ],
      "metadata": {
        "id": "wKQXuj4Wyn3R"
      }
    },
    {
      "cell_type": "markdown",
      "source": [
        "\n",
        "1. So, one thing to keep in mind is that recursive function is similar to while-loop because a proper use of recursive function requires an exit strategy like in a while loop. The main difference is that we use function to repeatedly call our code instead of a proper loop.\n",
        "\n",
        "2. Also, keep in mind that the maximum recursion is there to sort of check the memory usage and prevent crashes, which is not there is a while-loop. \n",
        "\n",
        "3. The maximum time a recursive function can be called is 1000 by default, but it can be changed.\n",
        "\n",
        "4. Last thing to keep in mind is that when we use recursive functions, all the returned valued from intermediate function call are cached in memory, and all the calculations are shifted to the end before exiting the main function call. This makes the recursive function take up more memory space, and even be inefficeint compared to for-loop or a while-loop."
      ],
      "metadata": {
        "id": "UZPBCK4kyocS"
      }
    },
    {
      "cell_type": "markdown",
      "source": [
        "## Recursive Factorial (n!)"
      ],
      "metadata": {
        "id": "-IAOXB29HuxI"
      }
    },
    {
      "cell_type": "code",
      "source": [
        "# recursive factorial\n",
        "\n",
        "def factorial(n):\n",
        "    if n < 0: return None\n",
        "    if n in [0, 1]: return 1\n",
        "    else: return n * factorial(n-1)\n",
        "\n",
        "\n",
        "for n in range(0,6):\n",
        "  print(n, factorial(n))\n"
      ],
      "metadata": {
        "colab": {
          "base_uri": "https://localhost:8080/"
        },
        "id": "esOI40HNHyzv",
        "outputId": "588c56d8-bedd-4e33-e077-1ec34fb11fe1"
      },
      "execution_count": null,
      "outputs": [
        {
          "output_type": "stream",
          "name": "stdout",
          "text": [
            "0 1\n",
            "1 1\n",
            "2 2\n",
            "3 6\n",
            "4 24\n",
            "5 120\n"
          ]
        }
      ]
    },
    {
      "cell_type": "markdown",
      "source": [
        "## The Fibonacci numbers"
      ],
      "metadata": {
        "id": "XdBRZtuVJVaN"
      }
    },
    {
      "cell_type": "markdown",
      "source": [
        "The third example I want to discuss in this video is The Fibonacci number or The Fibonacci series. \n",
        "\n",
        "The Fibonacci series is very useful in computer science and engineering, as it can be used to model population growth in bees, bunnies and many animals, it can also be implemented to understand patterns of seed and petals in sunflower. There are numerious implementations of the Fibonacci series.\n",
        "\n",
        "Basically the series starts with 0 and 1, the thereafter, the next number will be the sum of the last two numbers. Therefore, the third item will be 0 + 1 = 1. \n",
        "\n",
        "For simplicity, we can say that the series starts with 1 and 1.\n",
        "\n",
        "The base cases will be first two items, 1 and 1.\n",
        "\n",
        ">1 -> 1<br>\n",
        ">2 -> 1<br>\n",
        ">3 -> 2<br>\n",
        ">4 -> 3<br>\n",
        ">5 -> 5<br>\n",
        ">6 -> 8<br>\n",
        ">7 -> 13<br>\n",
        ">8 -> 21<br>\n",
        ">9 -> 34<br>\n",
        "\n"
      ],
      "metadata": {
        "id": "ZCXeb-xkJXcs"
      }
    },
    {
      "cell_type": "code",
      "source": [
        "def fibonacci(n):\n",
        "    if n < 1:\n",
        "        return None\n",
        "    elif n < 3:\n",
        "        return 1\n",
        "    else: \n",
        "      return fibonacci(n - 1) + fibonacci(n - 2)\n",
        "\n",
        "\n",
        "for n in range(1,10):\n",
        "  print(n, fibonacci(n))"
      ],
      "metadata": {
        "colab": {
          "base_uri": "https://localhost:8080/"
        },
        "id": "u8xnJAjlLp13",
        "outputId": "2f601a64-b367-4cc5-fa10-8145aee3fac0"
      },
      "execution_count": null,
      "outputs": [
        {
          "output_type": "stream",
          "name": "stdout",
          "text": [
            "1 1\n",
            "2 1\n",
            "3 2\n",
            "4 3\n",
            "5 5\n",
            "6 8\n",
            "7 13\n",
            "8 21\n",
            "9 34\n"
          ]
        }
      ]
    },
    {
      "cell_type": "markdown",
      "source": [
        "## Closing Remarks"
      ],
      "metadata": {
        "id": "upvBMylCM1fm"
      }
    },
    {
      "cell_type": "markdown",
      "source": [
        "When a function calls itself, this situation is known as recursion, and the function which calls itself is called a recursive function.\n",
        "\n",
        "On the other hand, we need to be very careful as it might be easy to make a mistake and create a function which never terminates. \n",
        "\n",
        "We also need to remember that recursive calls consume a lot of memory, and therefore may sometimes be inefficient."
      ],
      "metadata": {
        "id": "70PQKDWPM4YF"
      }
    }
  ]
}