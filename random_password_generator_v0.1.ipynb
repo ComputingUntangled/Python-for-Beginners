{
  "nbformat": 4,
  "nbformat_minor": 0,
  "metadata": {
    "colab": {
      "name": "random_password_generator_v0.1.ipynb",
      "provenance": [],
      "collapsed_sections": [],
      "authorship_tag": "ABX9TyO+tNbQtXjev6k/sDauYf3r",
      "include_colab_link": true
    },
    "kernelspec": {
      "name": "python3",
      "display_name": "Python 3"
    },
    "language_info": {
      "name": "python"
    }
  },
  "cells": [
    {
      "cell_type": "markdown",
      "metadata": {
        "id": "view-in-github",
        "colab_type": "text"
      },
      "source": [
        "<a href=\"https://colab.research.google.com/github/ComputingUntangled/Python-for-Beginners/blob/main/random_password_generator_v0.1.ipynb\" target=\"_parent\"><img src=\"https://colab.research.google.com/assets/colab-badge.svg\" alt=\"Open In Colab\"/></a>"
      ]
    },
    {
      "cell_type": "code",
      "execution_count": null,
      "metadata": {
        "colab": {
          "base_uri": "https://localhost:8080/"
        },
        "id": "J1aMnt9w2t-y",
        "outputId": "2891507b-1ebc-42a2-e97e-c89d37253a72"
      },
      "outputs": [
        {
          "output_type": "stream",
          "name": "stdout",
          "text": [
            "80 characters long, Type is: <class 'str'>\n",
            "abcdefghijklmnopqrstuvwxyzABCDEFGHIJKLMNOPQRSTUVWXYZ0123456789~!@#$%^&*()_+-{}[]\n",
            "ulNP3]1u(X\n",
            "uXu]P3(Nl1\n",
            "N13(]uXlPu\n"
          ]
        }
      ],
      "source": [
        "# PROGRAM REQUIREMENTS\n",
        "# generate/ display a random password of at least 8 characters in length\n",
        "# At least 2 lowercase, and 2 uppercase characters.\n",
        "# At least 1 numeric and 1 special characters.\n",
        "\n",
        "# PROGRAMMING RESTRICTIONS BASED ON DEVELOPER'S KNOWLEDGE\n",
        "# can use lists, tuples, set, and strings datatype and any operator\n",
        "# can use random module\n",
        "# Program should not ask/ prompt for any user input\n",
        "# Program should not use if statements, for loop, and/or while loop \n",
        "\n",
        "from random import choice, sample\n",
        "\n",
        "letters_lower = \"abcdefghijklmnopqrstuvwxyz\"\n",
        "letters_upper = \"ABCDEFGHIJKLMNOPQRSTUVWXYZ\"\n",
        "numbers = \"0123456789\"\n",
        "special_chars = \"~!@#$%^&*()_+-{}[]\"\n",
        "\n",
        "pool_all_chars = letters_lower + letters_upper + numbers + special_chars\n",
        "\n",
        "# check content of \"all_inclusive_list\" with these print statement\n",
        "print(len(pool_all_chars), \"characters long, Type is:\", type(pool_all_chars))\n",
        "print(pool_all_chars)\n",
        "\n",
        "\n",
        "lower_1 = choice(letters_lower)\n",
        "lower_2 = choice(letters_lower)\n",
        "upper_1 = choice(letters_upper)\n",
        "upper_2 = choice(letters_upper)\n",
        "num_1 = str(choice(numbers))\n",
        "sp_char = choice(special_chars)\n",
        "\n",
        "ex_char_1 = str(choice(pool_all_chars))\n",
        "ex_char_2 = str(choice(pool_all_chars))\n",
        "ex_char_3 = str(choice(pool_all_chars))\n",
        "ex_char_4 = str(choice(pool_all_chars))\n",
        "\n",
        "temp_random_psw = lower_1 + lower_2 + upper_1 + upper_2 + num_1 + sp_char + ex_char_1 + ex_char_2 + ex_char_3 + ex_char_4\n",
        "\n",
        "print(temp_random_psw)\n",
        "new_password = \"\".join(sample(temp_random_psw, len(temp_random_psw)))\n",
        "print(new_password)\n",
        "\n",
        "# or just use this code\n",
        "print(\"\".join(sample(temp_random_psw, len(temp_random_psw))))"
      ]
    }
  ]
}