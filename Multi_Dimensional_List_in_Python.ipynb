{
  "nbformat": 4,
  "nbformat_minor": 0,
  "metadata": {
    "colab": {
      "name": "Multi-Dimensional List in Python.ipynb",
      "provenance": [],
      "collapsed_sections": [],
      "authorship_tag": "ABX9TyNrfeWpeKN8pRHrBOPb3a7p",
      "include_colab_link": true
    },
    "kernelspec": {
      "name": "python3",
      "display_name": "Python 3"
    },
    "language_info": {
      "name": "python"
    }
  },
  "cells": [
    {
      "cell_type": "markdown",
      "metadata": {
        "id": "view-in-github",
        "colab_type": "text"
      },
      "source": [
        "<a href=\"https://colab.research.google.com/github/ComputingUntangled/Python-for-Beginners/blob/main/Multi_Dimensional_List_in_Python.ipynb\" target=\"_parent\"><img src=\"https://colab.research.google.com/assets/colab-badge.svg\" alt=\"Open In Colab\"/></a>"
      ]
    },
    {
      "cell_type": "markdown",
      "source": [
        "**Remember this!**<br>\n",
        "- There is no built-in multi-dimensional array datatype in Python.<br>\n",
        "- One way to mimic multi-dimensional array is to create a nested list (or alternatively use NumPy or other module)\n",
        " - i.e. list of elements, where each element itself contains list of elements within it.\n",
        " - e.g. [[9,0,8], [5,4,1]] is a nested list of two item, each item containing 3 values as inner list.\n",
        "- Sometimes, it is easier if we think if this nested list as x and y dimensions (***therefore, multi-dimensional array***).\n",
        " - e.g. <br>[9,0,8], <br>[5,4,1]\n",
        "   - the first index will then identify the item number (row number)\n",
        "   - the second index will identify the element within the item (column number)\n",
        "- Let's see some examples of 2-D and 3-D arrays using nested lists."
      ],
      "metadata": {
        "id": "Xr_rAh5KXuUJ"
      }
    },
    {
      "cell_type": "markdown",
      "source": [
        "# **2-Dimensional Arrays**"
      ],
      "metadata": {
        "id": "ahO6tKR_wJif"
      }
    },
    {
      "cell_type": "markdown",
      "source": [
        "## Creating a 2-Dimensional Array"
      ],
      "metadata": {
        "id": "2hdGbG12wRVw"
      }
    },
    {
      "cell_type": "code",
      "execution_count": null,
      "metadata": {
        "id": "4eXSgHo2Kkj1",
        "colab": {
          "base_uri": "https://localhost:8080/"
        },
        "outputId": "b37516b0-e577-404d-c4cb-4d79f5bd3d39"
      },
      "outputs": [
        {
          "output_type": "stream",
          "name": "stdout",
          "text": [
            "[1, 0]\n",
            "[6, 0]\n",
            "[5, 8]\n",
            "[4, 5]\n",
            "[9, 9]\n"
          ]
        }
      ],
      "source": [
        "from random import randint\n",
        "\n",
        "num_points = 5      # number of points/ item in multi-dimensional array\n",
        "ref_point = [0, 0]  # center point, or reference point for distance calculation\n",
        "\n",
        "# all_points = []\n",
        "# for point in range(num_points):\n",
        "#   new_point = [randint(0,10), randint(0,10)]\n",
        "#   all_points.append(new_point)\n",
        "\n",
        "# the following will create a 2-d array\n",
        "all_points = [[randint(0,9), randint(0,9)] for point in range(num_points)]\n",
        "# all_points = [[3,4]]      # example of single element/point\n",
        "\n",
        "for point in all_points: print(point)"
      ]
    },
    {
      "cell_type": "markdown",
      "source": [
        "## Accessing a 2-Dimensional Array\n",
        "using distance formula to find the distance of each of the points from the reference point.\n",
        "\n",
        "$d = \\sqrt{(x1-x2)^2 + (y1-y2)^2}$\n"
      ],
      "metadata": {
        "id": "2kc-j1G4wsIc"
      }
    },
    {
      "cell_type": "markdown",
      "source": [
        "***Method #1: using items in the array to loop through the 2-Dimensional Array***"
      ],
      "metadata": {
        "id": "b8BzwqSS_Tlu"
      }
    },
    {
      "cell_type": "code",
      "source": [
        "for point in all_points:\n",
        "  distance = ((ref_point[0] - point[0])**2 + (ref_point[1] - point[1])**2)**0.5\n",
        "  print(distance)"
      ],
      "metadata": {
        "id": "vPpSU1zEyYg-",
        "colab": {
          "base_uri": "https://localhost:8080/"
        },
        "outputId": "27e1d05f-1efb-4435-c087-cf980e77db90"
      },
      "execution_count": null,
      "outputs": [
        {
          "output_type": "stream",
          "name": "stdout",
          "text": [
            "1.0\n",
            "6.0\n",
            "9.433981132056603\n",
            "6.4031242374328485\n",
            "12.727922061357855\n"
          ]
        }
      ]
    },
    {
      "cell_type": "markdown",
      "source": [
        "***Method #2: using range() function to loop through the 2-Dimensional Array***"
      ],
      "metadata": {
        "id": "ZIsJ_lQ9_yYl"
      }
    },
    {
      "cell_type": "code",
      "source": [
        "for item in range(num_points):\n",
        "  distance = ((ref_point[0] - all_points[item][0])**2 + (ref_point[1] - all_points[item][1])**2)**0.5\n",
        "  print(distance)"
      ],
      "metadata": {
        "colab": {
          "base_uri": "https://localhost:8080/"
        },
        "id": "iCa9I3goAMqU",
        "outputId": "e2b2aada-3316-4b88-9a7d-6aba4b3f3927"
      },
      "execution_count": null,
      "outputs": [
        {
          "output_type": "stream",
          "name": "stdout",
          "text": [
            "1.0\n",
            "6.0\n",
            "9.433981132056603\n",
            "6.4031242374328485\n",
            "12.727922061357855\n"
          ]
        }
      ]
    },
    {
      "cell_type": "markdown",
      "source": [
        "# 3-Dimensional Arrays\n",
        "using distance formula to find the distance of each of the points from the reference point, and then storing the distance back into the list\n",
        "\n",
        "$d = \\sqrt{(x1-x2)^2 + (y1-y2)^2 + (z1-z2)^2}$"
      ],
      "metadata": {
        "id": "pBHoziv6azkF"
      }
    },
    {
      "cell_type": "code",
      "source": [
        "from random import randint\n",
        "\n",
        "num_points = 5          # number of points/ item in multi-dimensional array\n",
        "ref_point = [0, 0, 0]   # center point with x,y,z values\n",
        "\n",
        "# the floowing will create a 3-d array\n",
        "all_points = [[[randint(0,9), randint(0,9), randint(0,9)], [0]] for point in range(num_points)]\n",
        "# all_points = [[[3, 4, 0], [0]]]   # example point with x, y, z, and distance=0\n",
        "\n",
        "for point in all_points: print(point)  # print each item of 3-D array in a line\n",
        "# print(all_points)                        # print 3-D array in a single line"
      ],
      "metadata": {
        "colab": {
          "base_uri": "https://localhost:8080/"
        },
        "id": "8hV5INg0a3ho",
        "outputId": "49fe5640-977d-48cd-f507-6e5601a5a007"
      },
      "execution_count": null,
      "outputs": [
        {
          "output_type": "stream",
          "name": "stdout",
          "text": [
            "[[3, 4, 1], [0]]\n",
            "[[1, 3, 9], [0]]\n",
            "[[1, 6, 2], [0]]\n",
            "[[0, 4, 0], [0]]\n",
            "[[4, 3, 9], [0]]\n"
          ]
        }
      ]
    },
    {
      "cell_type": "code",
      "source": [
        "# updating the 3-d array with distance for each point from the ref_point\n",
        "for item in range(len(all_points)):\n",
        "  all_points[item][1][0] = ((ref_point[0] - all_points[item][0][0])**2 + (ref_point[1] - all_points[item][0][1])**2 + (ref_point[1] - all_points[item][0][2])**2)**0.5\n",
        "  print(all_points[item])"
      ],
      "metadata": {
        "colab": {
          "base_uri": "https://localhost:8080/"
        },
        "id": "JNx-bOV7evzE",
        "outputId": "eb73055c-f00d-4c8a-81f9-81aed3dd5b04"
      },
      "execution_count": null,
      "outputs": [
        {
          "output_type": "stream",
          "name": "stdout",
          "text": [
            "[[3, 4, 1], [5.0990195135927845]]\n",
            "[[1, 3, 9], [9.539392014169456]]\n",
            "[[1, 6, 2], [6.4031242374328485]]\n",
            "[[0, 4, 0], [4.0]]\n",
            "[[4, 3, 9], [10.295630140987]]\n"
          ]
        }
      ]
    }
  ]
}