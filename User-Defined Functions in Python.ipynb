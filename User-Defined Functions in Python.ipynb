{
  "nbformat": 4,
  "nbformat_minor": 0,
  "metadata": {
    "colab": {
      "name": "function.ipynb",
      "provenance": [],
      "collapsed_sections": [],
      "authorship_tag": "ABX9TyPKfs77+f6imycKsxw2fkSC",
      "include_colab_link": true
    },
    "kernelspec": {
      "name": "python3",
      "display_name": "Python 3"
    },
    "language_info": {
      "name": "python"
    }
  },
  "cells": [
    {
      "cell_type": "markdown",
      "metadata": {
        "id": "view-in-github",
        "colab_type": "text"
      },
      "source": [
        "<a href=\"https://colab.research.google.com/github/ComputingUntangled/Python-for-Beginners/blob/main/User-Defined%20Functions%20in%20Python.ipynb\" target=\"_parent\"><img src=\"https://colab.research.google.com/assets/colab-badge.svg\" alt=\"Open In Colab\"/></a>"
      ]
    },
    {
      "cell_type": "markdown",
      "source": [
        "#**Functions in Python**\n",
        "\n",
        "Hello folks! \n",
        "\n",
        "In Python programming, there are multiple approaches that we can adopt. For example, our programs can follow a procedural approach (where lists of instructions are executed top to bottom), functional approach (where the overall problem to be solved is divided into discrete, smaller pieces, and implemented in the form of a separate functions that are easy to understand and reusable when called), or object-oriented approach (where we manipulate collections of objects and their attributes).\n",
        "\n",
        "In this tutorial, we will learn about the functional approach, and by the end of this tutorial, you will be able to create your own user-defined functions in Python and use them. \n",
        "\n",
        "So let's get started.\n",
        "\n",
        "\n"
      ],
      "metadata": {
        "id": "uTTjtLHHTpAF"
      }
    },
    {
      "cell_type": "markdown",
      "source": [
        "## Introduction"
      ],
      "metadata": {
        "id": "CmyzD9NnKiCc"
      }
    },
    {
      "cell_type": "markdown",
      "source": [
        "In programming, a function is a **reusable block of code that executes** a certain functionality **only when it is called**.\n",
        "\n",
        "The key point I want you to understand at this time is the part that says \"resuable code that execute\" \"only when called\". You can define functions, but the code within it won't be executed if we don't call the functions to use them. This is different from the sequential execution of statements that we are familiar with.\n"
      ],
      "metadata": {
        "id": "CEDGdIvdKfLU"
      }
    },
    {
      "cell_type": "markdown",
      "source": [
        "So, where do the functions come from?\n",
        "\n",
        "Well, functions come in the form of:\n",
        "\n",
        "- numerous built-in methods and functions (like print()) are an integral part of Python, and are always available without any additional effort on behalf of the programmer;\n",
        "- a lot of very useful functions are available in a number of modules installed together with Python, or packages that can later be installed;\n",
        "- we can write our own functions, place them inside our code, and use them;\n",
        "- we can also write our own classes, with attributes or methods, and use them;"
      ],
      "metadata": {
        "id": "xiwx69Q4Zfub"
      }
    },
    {
      "cell_type": "markdown",
      "source": [
        "As explained earlier, in this tutorial, we focus on how to create our own user-defined functions in Python and how to use them."
      ],
      "metadata": {
        "id": "J8OJxmI1dC3r"
      }
    },
    {
      "cell_type": "markdown",
      "source": [
        "### Syntax to Define a Function"
      ],
      "metadata": {
        "id": "doFOSo2sKFml"
      }
    },
    {
      "cell_type": "markdown",
      "source": [
        "syntax:\n",
        "\n",
        "> `def function_name():`\n",
        ">> `\"\"\" This is docstring in case you need help \"\"\"` <br>\n",
        ">> `statement(s)`\n",
        "\n",
        "In Python, a function is defined using the `def` keyword, followed by the function name that uniquely identify the function. The naming convention for function in Python follows the same rules as that of identifiers or variables. And then we add parentheses().\n",
        "\n",
        "We can also define zero or more parameters inside these parentheses that become the input variables to the function.\n",
        "\n",
        "A semi-colon marks the end of the function header as well as the begining of the code block within every function. \n",
        "\n",
        "The first statement of a function can be an optional statement called the documentation string of the function or \"docstring\" to describe what the function does.\n",
        "\n",
        "There can be one or more statements within the function body. Statements within the function body must follow same indentation level (with a tab or 4 spaces).\n",
        "\n",
        "An optional return statement if present will return an output value from the function. If return statement is not included, the function will return None. Function ends where the nesting ends.\n",
        "\n",
        "The main body of the program begins below the function definition, usually after two line breaks in between.\n",
        "\n",
        "If we need to use the function, we can do so by simply calling the function name in our code, and assigning a value to the parameters, followed by any further program statements.\n",
        "\n",
        "Later when we execute an example program, I will show you how the control flow jumps back and forth when the execution encounters a function.\n",
        "\n",
        "\n",
        "\n"
      ],
      "metadata": {
        "id": "U3Qwlj0AKoNr"
      }
    },
    {
      "cell_type": "markdown",
      "source": [
        "## Advantages of using functions"
      ],
      "metadata": {
        "id": "UCRE5fi7iC6U"
      }
    },
    {
      "cell_type": "markdown",
      "source": [
        "There are theoretical and practical advantages to using functions:\n",
        "- Modularity\n",
        "\n",
        "> The most practical benefit of functional programming is that it allows us to break-apart our problem into smaller pieces. As a result, programs are more modular. This allows sharing the programming responsibility among many developers.\n",
        "\n",
        "- Composability\n",
        "\n",
        "> It’s easier to specify and write a small function that does one thing than a large program that performs a complicated transformation. Often, these functions will be useful in a wide variety of programs. Over time, you’ll form a personal library of utilities, to the point that you might be able to create new programs by assembling these existing functions with small tweaks or configurations, along with very few new functions for new or additional tasks.\n",
        "\n",
        "- Ease of debugging and testing\n",
        "\n",
        "> Small functions are also easier to read and to check for errors. There are fewer corrections to be made as only function that needs correction will be adjusted, with the trust that the rest of the functions will still do their parts. Testing and debugging a functional-style program is easier.\n",
        "\n",
        "- Proof of correctness\n",
        "\n",
        "> Because each function is a module that provide certain output for a given input, it is easier to do a rigorous test to prove, or at least get high confidence, that a program produces the right result for all possible inputs\n",
        "\n",
        "- Opaque internal workings\n",
        "\n",
        "> a well defined function works like a black box that can be viewed in terms of its inputs and outputs, others should be able to use the function without any knowledge of its internal workings.\n",
        "\n",
        "As you already know, Python gives you many built-in functions such as print(). but we can also create our own functions. So, let's look at some examples.\n",
        "\n",
        "Before we begin, don't forget to hit the like and the subscribe button to get more content like this."
      ],
      "metadata": {
        "id": "Y-Jrq1HLh0Wy"
      }
    },
    {
      "cell_type": "markdown",
      "source": [
        "## Barebone Function with a pass statement"
      ],
      "metadata": {
        "id": "wjcoHoACUt4v"
      }
    },
    {
      "cell_type": "code",
      "execution_count": null,
      "metadata": {
        "id": "dU6WjBS7TlCo"
      },
      "outputs": [],
      "source": [
        "def display_bond_profile():\n",
        "  pass"
      ]
    },
    {
      "cell_type": "markdown",
      "source": [
        "##Function (without parameters) that prints a static output"
      ],
      "metadata": {
        "id": "nzMf0nUOToFo"
      }
    },
    {
      "cell_type": "code",
      "source": [
        "def display_bond_profile():\n",
        "  \"\"\" Funcion without parameter to display profile of James Bond. No arguments needed. \"\"\"\n",
        "  print(\"Bond! The name is James Bond.\")\n",
        "  print(\"I am agent number 007.\\n\")\n",
        "\n"
      ],
      "metadata": {
        "id": "pnAvtJ1iIywp"
      },
      "execution_count": null,
      "outputs": []
    },
    {
      "cell_type": "markdown",
      "source": [
        "Need to invoke/ call the function"
      ],
      "metadata": {
        "id": "9VTRv4i78J29"
      }
    },
    {
      "cell_type": "code",
      "source": [
        "def display_bond_profile():\n",
        "  \"\"\" Funcion without parameter to display profile of James Bond. No arguments needed. \"\"\"\n",
        "  print(\"Bond! The name is James Bond.\")\n",
        "  print(\"I am agent number 007.\\n\")\n",
        "\n",
        "\n",
        "# calling the function twice (code reuse)\n",
        "print(\"Begining here\\n\")\n",
        "display_bond_profile()\n",
        "display_bond_profile()\n",
        "print(\"Ending here\")"
      ],
      "metadata": {
        "colab": {
          "base_uri": "https://localhost:8080/"
        },
        "id": "m_hYtHPvU4FQ",
        "outputId": "13cc0b74-443b-4475-bd9f-699f2c70d56b"
      },
      "execution_count": null,
      "outputs": [
        {
          "output_type": "stream",
          "name": "stdout",
          "text": [
            "Begining here\n",
            "\n",
            "Bond! The name is James Bond.\n",
            "I am agent number 007.\n",
            "\n",
            "Bond! The name is James Bond.\n",
            "I am agent number 007.\n",
            "\n",
            "Ending here\n"
          ]
        }
      ]
    },
    {
      "cell_type": "markdown",
      "source": [
        "## Using Docstring"
      ],
      "metadata": {
        "id": "3Udflx_J2tyO"
      }
    },
    {
      "cell_type": "markdown",
      "source": [
        "Docstring is used to describe the functionality of the function. The use of docstring in functions is optional but it is considered a good practice."
      ],
      "metadata": {
        "id": "iXIspAMsbQN_"
      }
    },
    {
      "cell_type": "code",
      "source": [
        "help(display_bond_profile)"
      ],
      "metadata": {
        "colab": {
          "base_uri": "https://localhost:8080/"
        },
        "id": "nwhOYWRhj_SE",
        "outputId": "88c78d50-b074-4a5e-ac50-90fcf02c2838"
      },
      "execution_count": null,
      "outputs": [
        {
          "output_type": "stream",
          "name": "stdout",
          "text": [
            "Help on function display_bond_profile in module __main__:\n",
            "\n",
            "display_bond_profile()\n",
            "    Funcion without parameter to display profile of James Bond. No arguments needed.\n",
            "\n"
          ]
        }
      ]
    },
    {
      "cell_type": "code",
      "source": [
        "print(display_bond_profile.__doc__)"
      ],
      "metadata": {
        "colab": {
          "base_uri": "https://localhost:8080/"
        },
        "id": "WhvRcGtla42t",
        "outputId": "25983fad-63a2-4077-ede9-837f3901b9ad"
      },
      "execution_count": null,
      "outputs": [
        {
          "output_type": "stream",
          "name": "stdout",
          "text": [
            " Funcion without parameter to display profile of James Bond. No arguments needed. \n"
          ]
        }
      ]
    },
    {
      "cell_type": "markdown",
      "source": [
        "## Looking at the control flow with functions"
      ],
      "metadata": {
        "id": "P3XabyUq28hW"
      }
    },
    {
      "cell_type": "markdown",
      "source": [
        "To better understand what happens to the control flow when our program includes user-defined functions, let's add break-points at the function definition and at the begining of the main body of our program. \n",
        "\n",
        "![Capture.PNG](data:image/png;base64,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)\n",
        "When we run the debug test mode and watch the console output as well the control flow, we find that the execution starts from the top, as usual. The interpreter recognizes that the first line defines a new function with the def keyword.\n",
        "\n",
        "When we step over or press F8, the control skips the statements within the function and directly jupms to the start of the main body of our program. Now step into or press F7 to see the next steps. When a function is invoked, Python remembers the place where it happened and jumps into the invoked function. The body of the function is then executed. Reaching the end of the function forces Python to return to the place directly after the point of invocation."
      ],
      "metadata": {
        "id": "NqxGiRfY3FwN"
      }
    },
    {
      "cell_type": "markdown",
      "source": [
        "## NameError When Function Call Happens Before Function Definition"
      ],
      "metadata": {
        "id": "9B1YBBTqciBY"
      }
    },
    {
      "cell_type": "code",
      "source": [
        "display_bonds_profile()    # name 'display_bond_profile' is not defined\n",
        "\n",
        "def display_bonds_profile():\n",
        "  print(\"Bond! The name is James Bond.\")\n",
        "  print(\"I am agent number 007.\\n\")"
      ],
      "metadata": {
        "id": "93IviuTycdfm"
      },
      "execution_count": null,
      "outputs": []
    },
    {
      "cell_type": "markdown",
      "source": [
        "##Function with parameters\n"
      ],
      "metadata": {
        "id": "OhLF-P-AeHdT"
      }
    },
    {
      "cell_type": "markdown",
      "source": [
        "We can define a function which takes arguments, too. When a function accepts data provided by the invoker, such data can modify the function's behavior, making it more flexible and dynamic to changing inputs. A function can have as many parameters as you want. Lets see an example function with two parameters:"
      ],
      "metadata": {
        "id": "5w8X8jPPBLpM"
      }
    },
    {
      "cell_type": "code",
      "source": [
        "def display_user_profile(user, age):\n",
        "  \"\"\" This function displays user profile give name and age \"\"\"\n",
        "  print(f\"This is {user.title()}. {user.title()} is {age} year(s) old.\")"
      ],
      "metadata": {
        "id": "S5rsnwRleOeP"
      },
      "execution_count": null,
      "outputs": []
    },
    {
      "cell_type": "markdown",
      "source": [
        "Assigning a value to the parameter is done at the time of the function's invocation, by specifying the corresponding argument. This means that invoking this function will require two arguments, first argument that corresponds to the paramter \"user\" and the second that corresponds to the parameter \"age\"."
      ],
      "metadata": {
        "id": "bZjwPONZESR1"
      }
    },
    {
      "cell_type": "code",
      "source": [
        "def display_user_profile(user, age):\n",
        "  \"\"\" This function displays user profile give name and age \"\"\"\n",
        "  print(f\"This is {user.title()}. {user.title()} is {age} year(s) old.\")\n",
        "\n",
        "\n",
        "# keyword argument passing\n",
        "# the meaning of the argument is dictated by its name, not by its position\n",
        "display_user_profile(user = \"amber\", age = 34)\n",
        "\n",
        "# order of arguments doesn't matter if using keyword argument passing\n",
        "display_user_profile(age = 43, user = \"jack\")\n",
        "\n",
        "# positional argument passing\n",
        "# the meaning of the argument is dictated by its position, not by its name\n",
        "display_user_profile(\"peter\", \"23\")\n",
        "\n",
        "# positional argument passing mixed with keyword argument passing\n",
        "# leaving in just one keyword argument looks a bit weird, and sometimes may not make sense\n",
        "display_user_profile(\"hector\", age = 19)\n",
        "\n",
        "# order of arguments doesn matter if using positional argument passing. \n",
        "# We will see an example a little later in this tutorial"
      ],
      "metadata": {
        "colab": {
          "base_uri": "https://localhost:8080/"
        },
        "id": "sdFEj8DDEeWl",
        "outputId": "4fe55784-0cd0-4492-a42f-b82114a2d3f5"
      },
      "execution_count": null,
      "outputs": [
        {
          "output_type": "stream",
          "name": "stdout",
          "text": [
            "This is Amber. Amber is 34 year(s) old.\n",
            "This is Jack. Jack is 43 year(s) old.\n",
            "This is Peter. Peter is 23 year(s) old.\n",
            "This is Hector. Hector is 19 year(s) old.\n"
          ]
        }
      ]
    },
    {
      "cell_type": "markdown",
      "source": [
        "The key point to note here is that parameters live inside functions and arguments exist outside functions. But when we invoke a pameterized function, the argument acts like carriers of values passed to corresponding parameters. Therefore, parameter and arguments are sometimes used synonymously."
      ],
      "metadata": {
        "id": "R0MYoXj3GF8r"
      }
    },
    {
      "cell_type": "markdown",
      "source": [
        "## Errors to avoid"
      ],
      "metadata": {
        "id": "dBzVQyYi-eIY"
      }
    },
    {
      "cell_type": "code",
      "source": [
        "# NameError when trying to access parameters that exist only inside function definition \n",
        "print(user)"
      ],
      "metadata": {
        "id": "1i4A3B0uEv9t"
      },
      "execution_count": null,
      "outputs": []
    },
    {
      "cell_type": "code",
      "source": [
        "# Swapping the arguments around will give AttributeError, or unexpected results\n",
        "# order of positional argument matters if NOT explicitly assigned\n",
        "display_user_profile(19, \"hector\")"
      ],
      "metadata": {
        "id": "5D0rF-rbiVpe"
      },
      "execution_count": null,
      "outputs": []
    },
    {
      "cell_type": "code",
      "source": [
        "# TypeError when passing more positional arguments than needed during function calls\n",
        "display_user_profile(\"amber\", 34, \"amber\")"
      ],
      "metadata": {
        "id": "BgfIJGcXhgju"
      },
      "execution_count": null,
      "outputs": []
    },
    {
      "cell_type": "code",
      "source": [
        "# TypeError when missing required positional argument during function calls\n",
        "display_user_profile(\"amber\")"
      ],
      "metadata": {
        "id": "Q26cdh-mm66f"
      },
      "execution_count": null,
      "outputs": []
    },
    {
      "cell_type": "code",
      "source": [
        "# SyntaxError when positional argument follows keyword argument during function calls\n",
        "display_user_profile(user = \"amber\", 34)"
      ],
      "metadata": {
        "id": "r_eMqROxqAI0"
      },
      "execution_count": null,
      "outputs": []
    },
    {
      "cell_type": "code",
      "source": [
        "# SyntaxError when positional argument follows keyword argument during function calls\n",
        "display_user_profile(age = 34, \"amber\")"
      ],
      "metadata": {
        "id": "sWLcalXVsOTh"
      },
      "execution_count": null,
      "outputs": []
    },
    {
      "cell_type": "markdown",
      "source": [
        "## Function with Default Parameters"
      ],
      "metadata": {
        "id": "Cu_UNL3IfuaT"
      }
    },
    {
      "cell_type": "markdown",
      "source": [
        "If a particular parameter's values are in use more often than others, we can assign default (predefined) values to such parameter when defining the function. "
      ],
      "metadata": {
        "id": "srs03amwKkvj"
      }
    },
    {
      "cell_type": "code",
      "source": [
        "def display_user_profile(user, age, status = \"single\"):\n",
        "  print(f\"This is {user.title()}. {user.title()} is {age} year(s) old and {status}.\")\n",
        "\n",
        "\n",
        "# With default parameter values defined, passing the values to these \n",
        "# parameters during function call become optional. See these examples.\n",
        "display_user_profile(\"harry\", 30)\n",
        "display_user_profile(\"amber\", \"34\", status = \"single\")\n",
        "display_user_profile(\"tom\", 18, status = \"married\")\n",
        "display_user_profile(\"sarah\", 18, \"engaged\")"
      ],
      "metadata": {
        "colab": {
          "base_uri": "https://localhost:8080/"
        },
        "id": "_nLQKp-OggiX",
        "outputId": "3ea6a6b0-fad8-46c7-bfa8-e1d3862b5188"
      },
      "execution_count": null,
      "outputs": [
        {
          "output_type": "stream",
          "name": "stdout",
          "text": [
            "This is Harry. Harry is 30 year(s) old and single.\n",
            "This is Amber. Amber is 34 year(s) old and single.\n",
            "This is Tom. Tom is 18 year(s) old and married.\n",
            "This is Sarah. Sarah is 18 year(s) old and engaged.\n"
          ]
        }
      ]
    },
    {
      "cell_type": "markdown",
      "source": [
        "## Function that returns"
      ],
      "metadata": {
        "id": "CGAadmS4pWec"
      }
    },
    {
      "cell_type": "code",
      "source": [
        "# Function without a return will return none by default\n",
        "def find_distance(x1, y1, x2 = 0, y2 = 0):\n",
        "  distance = ( (x1 - x2)**2 + (y1 - y2)**2 ) **0.5\n",
        "\n",
        "\n",
        "print(find_distance(3, 4))"
      ],
      "metadata": {
        "colab": {
          "base_uri": "https://localhost:8080/"
        },
        "id": "TYg1Gl_nvYGd",
        "outputId": "6301e22f-3f3a-4e9f-f460-ec93e5bd7bcd"
      },
      "execution_count": null,
      "outputs": [
        {
          "output_type": "stream",
          "name": "stdout",
          "text": [
            "None\n"
          ]
        }
      ]
    },
    {
      "cell_type": "code",
      "source": [
        "def find_distance(x1, y1, x2 = 0, y2 = 0):\n",
        "  return ( (x1 - x2)**2 + (y1 - y2)**2 ) **0.5\n",
        "\n",
        "\n",
        "print(find_distance(3, 4))\n",
        "print(find_distance(3, 4, 4))\n",
        "print(find_distance(3, 4, 4, 3))"
      ],
      "metadata": {
        "colab": {
          "base_uri": "https://localhost:8080/"
        },
        "id": "kyEotqTFpc3V",
        "outputId": "ed3e8313-273e-4eaa-ed56-bb4e5e9c3b52"
      },
      "execution_count": null,
      "outputs": [
        {
          "output_type": "stream",
          "name": "stdout",
          "text": [
            "5.0\n",
            "4.123105625617661\n",
            "1.4142135623730951\n"
          ]
        }
      ]
    },
    {
      "cell_type": "markdown",
      "source": [
        "## Functions and Scope"
      ],
      "metadata": {
        "id": "HQk8-jHBdp69"
      }
    },
    {
      "cell_type": "markdown",
      "source": [
        "The scope of a variable is the part of a code where the variable is  recognized."
      ],
      "metadata": {
        "id": "7_CfXebTNPaV"
      }
    },
    {
      "cell_type": "code",
      "source": [
        "a = 2\n",
        "print(a)"
      ],
      "metadata": {
        "id": "j3W5qymfdns5",
        "colab": {
          "base_uri": "https://localhost:8080/"
        },
        "outputId": "2918fa37-8e94-4d7d-9799-aca88afbd142"
      },
      "execution_count": null,
      "outputs": [
        {
          "output_type": "stream",
          "name": "stdout",
          "text": [
            "2\n"
          ]
        }
      ]
    },
    {
      "cell_type": "markdown",
      "source": [
        "In the example above, variable a is recognizable in the main body of the code."
      ],
      "metadata": {
        "id": "MSFqDDg-NfY9"
      }
    },
    {
      "cell_type": "markdown",
      "source": [
        "In case of a function, a variable that is existing outside a function has a scope inside the functions' bodies as well."
      ],
      "metadata": {
        "id": "9zB5pSshOmQM"
      }
    },
    {
      "cell_type": "code",
      "source": [
        "a = 2\n",
        "print(a)\n",
        "\n",
        "def display_name():\n",
        "  print(a)\n",
        "\n",
        "display_name()\n",
        "print(a)"
      ],
      "metadata": {
        "colab": {
          "base_uri": "https://localhost:8080/"
        },
        "id": "wMCuwbBRAfud",
        "outputId": "2ac59292-5648-42cc-fb6a-2c480408d16a"
      },
      "execution_count": null,
      "outputs": [
        {
          "output_type": "stream",
          "name": "stdout",
          "text": [
            "2\n",
            "2\n",
            "2\n"
          ]
        }
      ]
    },
    {
      "cell_type": "markdown",
      "source": [
        "In the example above, variable a is recognizable prior to function definition, after function definition, as well as during function invocation."
      ],
      "metadata": {
        "id": "4x4acuFnOufz"
      }
    },
    {
      "cell_type": "markdown",
      "source": [
        "However, a variable that is defined inside a function has a scope only inside the functions' bodies. "
      ],
      "metadata": {
        "id": "qolSnW5rPgKa"
      }
    },
    {
      "cell_type": "code",
      "source": [
        "def display_name():\n",
        "  b = 100\n",
        "  print(b)\n",
        "\n",
        "print(b)"
      ],
      "metadata": {
        "id": "90_tnSJVNq2l"
      },
      "execution_count": null,
      "outputs": []
    },
    {
      "cell_type": "markdown",
      "source": [
        "Here, the scope of a function's parameter is the function itself. The parameter is inaccessible outside the function. Such variable have scope that are local to the function that define the variable. Therefore they are local variables. Variable b is local to `display_name()` function."
      ],
      "metadata": {
        "id": "9mrWLIcFQWYw"
      }
    },
    {
      "cell_type": "markdown",
      "source": [
        "Consider a special case where local variable shadows the name of the globally recognizable variable."
      ],
      "metadata": {
        "id": "njNQfNkmRDPH"
      }
    },
    {
      "cell_type": "code",
      "source": [
        "a = 2\n",
        "print(a)\n",
        "\n",
        "def display_name():\n",
        "  a = 200\n",
        "  print(a)\n",
        "\n",
        "display_name()\n",
        "print(a)"
      ],
      "metadata": {
        "colab": {
          "base_uri": "https://localhost:8080/"
        },
        "id": "XsyH4M5CRn-J",
        "outputId": "32201251-291a-4322-a8e0-b9a69f6f5d18"
      },
      "execution_count": null,
      "outputs": [
        {
          "output_type": "stream",
          "name": "stdout",
          "text": [
            "2\n",
            "200\n",
            "2\n"
          ]
        }
      ]
    },
    {
      "cell_type": "markdown",
      "source": [
        "the variable `a` created inside the function is not the same as when defined outside it... there are two different variables of the same name `a`. The function's variable 'a' shadows the variable 'a coming from outside the function. Assigning a value  to the globally recognized variable forces the creation of the function's own variable with the newly assigned value."
      ],
      "metadata": {
        "id": "AuLz1nT7R2WN"
      }
    },
    {
      "cell_type": "markdown",
      "source": [
        "Using the `global` keyword inside a function with the name (or names separated with commas) of a variable(s), forces Python to refrain from creating a new variable inside the function. Lets see an example:"
      ],
      "metadata": {
        "id": "mWRHICNISkG9"
      }
    },
    {
      "cell_type": "code",
      "source": [
        "a = 2\n",
        "print(a)\n",
        "\n",
        "def display_name():\n",
        "  global a\n",
        "  print(a)\n",
        "\n",
        "display_name()\n",
        "print(a)"
      ],
      "metadata": {
        "colab": {
          "base_uri": "https://localhost:8080/"
        },
        "id": "UxUjZ56CAk0E",
        "outputId": "55e43d7d-85e2-4c46-9fb9-668d81320736"
      },
      "execution_count": null,
      "outputs": [
        {
          "output_type": "stream",
          "name": "stdout",
          "text": [
            "2\n",
            "2\n",
            "2\n"
          ]
        }
      ]
    },
    {
      "cell_type": "markdown",
      "source": [
        "When defining functions, it is common that the implementation of a function will use assignments to local variables, but modify global variables is not recommended, and is generally bad practice."
      ],
      "metadata": {
        "id": "jMkS_13GNzfn"
      }
    },
    {
      "cell_type": "code",
      "source": [
        "a = 2\n",
        "print(a)\n",
        "\n",
        "def display_name():\n",
        "  global a\n",
        "  a += 98   # bad practice\n",
        "  print(a)\n",
        "\n",
        "display_name()\n",
        "print(a)"
      ],
      "metadata": {
        "colab": {
          "base_uri": "https://localhost:8080/"
        },
        "id": "e3h1-Xw6A0Id",
        "outputId": "8fd1684f-d409-4576-db25-3a6cf7fed691"
      },
      "execution_count": null,
      "outputs": [
        {
          "output_type": "stream",
          "name": "stdout",
          "text": [
            "2\n",
            "100\n",
            "100\n"
          ]
        }
      ]
    },
    {
      "cell_type": "markdown",
      "source": [
        "## Function within function (Recursive Function)"
      ],
      "metadata": {
        "id": "uGq96JVyvyYz"
      }
    },
    {
      "cell_type": "markdown",
      "source": [
        "Python allows to define a function inside another function... and is known as nested function.\n",
        "\n",
        "Python also allows a function to invoke itself, or invoke recursively and is known as Recursive Function. Lets look at an example:"
      ],
      "metadata": {
        "id": "iSFp5D1qb6zr"
      }
    },
    {
      "cell_type": "code",
      "source": [
        "def factorial_function(n):\n",
        "    if n < 0:\n",
        "        return None\n",
        "    if n < 2:\n",
        "        return 1    \n",
        "    return n * factorial_function(n - 1)  # recursive function invokes itself\n",
        "\n",
        "\n",
        "for n in range(-1, 6):  # testing\n",
        "    print(n, factorial_function(n))     # function invoked within a for-loop"
      ],
      "metadata": {
        "colab": {
          "base_uri": "https://localhost:8080/"
        },
        "id": "OI5bV_bX6sF_",
        "outputId": "7841cde1-fb47-4ffb-f86f-730a32106bf9"
      },
      "execution_count": null,
      "outputs": [
        {
          "output_type": "stream",
          "name": "stdout",
          "text": [
            "-1 None\n",
            "0 1\n",
            "1 1\n",
            "2 2\n",
            "3 6\n",
            "4 24\n",
            "5 120\n"
          ]
        }
      ]
    }
  ]
}