{
  "cells": [
    {
      "cell_type": "markdown",
      "metadata": {
        "id": "view-in-github",
        "colab_type": "text"
      },
      "source": [
        "<a href=\"https://colab.research.google.com/github/ComputingUntangled/Python-for-Beginners/blob/main/calculator%20(no%20GUI).ipynb\" target=\"_parent\"><img src=\"https://colab.research.google.com/assets/colab-badge.svg\" alt=\"Open In Colab\"/></a>"
      ]
    },
    {
      "cell_type": "markdown",
      "source": [
        "# Calculator using functions"
      ],
      "metadata": {
        "id": "yLNDAIrkcrIT"
      }
    },
    {
      "cell_type": "markdown",
      "source": [
        "**NOTE:** Click [here](https://www.youtube.com/watch?v=MgN0RlEPNW0) to watch this tutorial on YouTube video."
      ],
      "metadata": {
        "id": "baJyhFEgQSwl"
      }
    },
    {
      "cell_type": "markdown",
      "source": [
        "Hi Folks!\n",
        "\n",
        "In this tutorial, we will create user-defined functions to build a calculator in Python. \n",
        "\n",
        "So let's get right into it."
      ],
      "metadata": {
        "id": "74uJCUoYcxXK"
      }
    },
    {
      "cell_type": "markdown",
      "source": [
        "## Quick note on built-in eval() function"
      ],
      "metadata": {
        "id": "KdfdjHP2deBm"
      }
    },
    {
      "cell_type": "markdown",
      "source": [
        "Before we dive in and begin creating our user-defined functions to make our own calculator, I would like to take a minute to talk about a built-in `eval()` function that is available in Python for this.\n",
        "\n",
        "We can use this `eval()` function to evaluate the user input directly and use it as a calculator in a single line of code."
      ],
      "metadata": {
        "id": "tfXThuywdm-Q"
      }
    },
    {
      "cell_type": "code",
      "source": [
        "print(eval(input(\"Enter your expression for evaluation: \")))"
      ],
      "metadata": {
        "colab": {
          "base_uri": "https://localhost:8080/"
        },
        "id": "J-_csdHwPIau",
        "outputId": "5349ab89-e7d2-4241-d660-33c131ac0724"
      },
      "execution_count": 1,
      "outputs": [
        {
          "output_type": "stream",
          "name": "stdout",
          "text": [
            "Enter your expression for evaluation: 2+5+9-20/2\n",
            "6.0\n"
          ]
        }
      ]
    },
    {
      "cell_type": "markdown",
      "source": [
        "A breakdown of the above code would look something like this:\n",
        "- We first use `input()` function to ask the user to provide the expression that is to be evaluated. The input function will return user input as a string.\n",
        "- The `eval()` function then evaluates the resulting value of the expression\n",
        "- The `print()` statement will display the result to the user screen.\n",
        "\n",
        "Use a while loop so that the program runs as long as the input is provided."
      ],
      "metadata": {
        "id": "2wUIfF-cO1BQ"
      }
    },
    {
      "cell_type": "code",
      "source": [
        "expression = input(\"Enter your expression for evaluation: \")\n",
        "while expression:\n",
        "    evaluation = eval(expression)\n",
        "    print(evaluation)\n",
        "    expression = input(\"Enter your expression for evaluation: \")"
      ],
      "metadata": {
        "colab": {
          "base_uri": "https://localhost:8080/"
        },
        "id": "N1dYY0ePbuQa",
        "outputId": "7a67371f-d153-4c62-b4a8-c3c82f86305d"
      },
      "execution_count": 2,
      "outputs": [
        {
          "name": "stdout",
          "output_type": "stream",
          "text": [
            "Enter your expression for evaluation: 2+6/2\n",
            "5.0\n",
            "Enter your expression for evaluation: 5/2-3\n",
            "-0.5\n",
            "Enter your expression for evaluation: \n"
          ]
        }
      ]
    },
    {
      "cell_type": "markdown",
      "source": [
        "We can alternatively put `print()` and `eval()` statements in a single line of code and make our program more compact:"
      ],
      "metadata": {
        "id": "neI1AXx5cBnQ"
      }
    },
    {
      "cell_type": "code",
      "execution_count": 3,
      "metadata": {
        "colab": {
          "base_uri": "https://localhost:8080/"
        },
        "id": "kvAlQ7GCqVc8",
        "outputId": "857ccfe6-ddbb-4d03-dc85-430698918df9"
      },
      "outputs": [
        {
          "name": "stdout",
          "output_type": "stream",
          "text": [
            "Enter your expression for evaluation: 8/4-2\n",
            "0.0\n",
            "Enter your expression for evaluation: 5**3\n",
            "125\n",
            "Enter your expression for evaluation: \n"
          ]
        }
      ],
      "source": [
        "expression = input(\"Enter your expression for evaluation: \")\n",
        "while expression:\n",
        "    print(eval(expression))\n",
        "    expression = input(\"Enter your expression for evaluation: \")"
      ]
    },
    {
      "cell_type": "markdown",
      "source": [
        "## Creating our own calculator using sqeuential code"
      ],
      "metadata": {
        "id": "FgeFl9E9f_MI"
      }
    },
    {
      "cell_type": "markdown",
      "source": [
        "But in this tutorial, we are going to learn how to create our own calculator. We are going to start with sequential code, and then update our code using functional approach."
      ],
      "metadata": {
        "id": "Q3mMbXcceDKm"
      }
    },
    {
      "cell_type": "code",
      "source": [
        "a = int(input(\"Enter first number: \"))\n",
        "_ = input('Enter operation (\"+\", \"-\", \"*\", \"/\" or \"^\"): ')\n",
        "b = int(input(\"Enter second number: \"))\n",
        "if _ == \"+\": print(a + b)\n",
        "elif _ == \"-\": print(a - b)\n",
        "elif _ == \"*\": print(a * b)\n",
        "elif _ == \"/\": print(a / b)\n",
        "elif _ == \"^\": print(a ** b)"
      ],
      "metadata": {
        "colab": {
          "base_uri": "https://localhost:8080/"
        },
        "id": "DzitehKqugAl",
        "outputId": "ab78c4a2-b283-4889-a13c-e486a7044fc2"
      },
      "execution_count": 3,
      "outputs": [
        {
          "output_type": "stream",
          "name": "stdout",
          "text": [
            "Enter first number: 2\n",
            "Enter operation (\"+\", \"-\", \"*\", \"/\" or \"^\"): +\n",
            "Enter second number: 5\n",
            "7\n"
          ]
        }
      ]
    },
    {
      "cell_type": "markdown",
      "source": [
        "But we can practice creating simple user-defined functions to build our own calculator in Python. The math used in testing our calculator will improve our confidence in our ability to create user-defined functions."
      ],
      "metadata": {
        "id": "Q0Q-2oKcepuM"
      }
    },
    {
      "cell_type": "markdown",
      "source": [
        "## Using user-defined functions"
      ],
      "metadata": {
        "id": "IYOEC1Z9eiOP"
      }
    },
    {
      "cell_type": "code",
      "source": [
        "def get_user_inputs():\n",
        "    a = int(input(\"Enter first number: \"))\n",
        "    _ = input('Enter operation (\"+\", \"-\", \"*\", \"/\" or \"^\"): ')\n",
        "    b = int(input(\"Enter second number: \"))\n",
        "    return [a, _, b]\n",
        "\n",
        "\n",
        "def add(a, b):\n",
        "    return a + b\n",
        "\n",
        "\n",
        "def minus(a, b):\n",
        "    return a - b\n",
        "\n",
        "\n",
        "def product(a, b):\n",
        "    return a * b\n",
        "\n",
        "\n",
        "def division(a, b):\n",
        "    return a / b\n",
        "\n",
        "\n",
        "def power(a, b):\n",
        "    return a ** b\n",
        "\n",
        "\n",
        "def calculate(x):\n",
        "    if x[1] == \"+\":\n",
        "        result = add(x[0], x[2])\n",
        "    elif x[1] == \"-\":\n",
        "        result = minus(x[0], x[2])\n",
        "    elif x[1] == \"*\":\n",
        "        result = product(x[0], x[2])\n",
        "    elif x[1] == \"/\":\n",
        "        result = division(x[0], x[2])\n",
        "    elif x[1] == \"^\":\n",
        "        result = power(x[0], x[2])\n",
        "    return result\n",
        "\n",
        "\n",
        "print(calculate(get_user_inputs()))\n"
      ],
      "metadata": {
        "id": "RwHqnarvcqNY",
        "colab": {
          "base_uri": "https://localhost:8080/"
        },
        "outputId": "90247bfb-6f4c-43f3-beb3-9c655c136e2e"
      },
      "execution_count": 5,
      "outputs": [
        {
          "output_type": "stream",
          "name": "stdout",
          "text": [
            "Enter first number: 2\n",
            "Enter operation (\"+\", \"-\", \"*\", \"/\" or \"^\"): ^\n",
            "Enter second number: 5\n",
            "32\n"
          ]
        }
      ]
    },
    {
      "cell_type": "markdown",
      "source": [
        "## Closing Remarks"
      ],
      "metadata": {
        "id": "0lhbhIQcpDMO"
      }
    },
    {
      "cell_type": "markdown",
      "source": [
        "The results show that our calculator is working fine when provided with correct user input and operation. But can you think of improvements we can make to this calculator?\n",
        "\n",
        "Of course we can improve this code! And there are at least a few glaring pitfalls that we can improve upon.\n",
        "\n",
        "First, our calculator currently is only limited to five operations, each involving two variables. We can easily improve this by adding new functions to be able to handle additional mathematical expressions such as modulo operations.\n",
        "\n",
        "Second, our calculator can not handle situation where input are in undesirable or incorrect format. For e.g. if user provides non-numerial values for variables a or b, or invalid operation, the code will fail. We could use input validation to improve that aspect.\n",
        "\n",
        "Also, our calculator currently does not support mathematical expression involving single variable. For e.g. square root operation.\n",
        "\n",
        "These are all good improvements that we can add to the code. \n",
        "\n",
        "Do you think you can make any of these improvements? I recommend that you practice coding and improve the calculator as well as your skills.\n",
        "\n",
        "I would love to hear from you what other improvements you can think of. So please send me your thoughts in the comments section below. Let me know if your need help on any particular ones. \n",
        "\n",
        "If you liked the tutorial, please don't forget to like, share and subscribe to the channel.\n"
      ],
      "metadata": {
        "id": "dQc5hBnznwaC"
      }
    }
  ],
  "metadata": {
    "colab": {
      "name": "calculator.ipynb",
      "provenance": [],
      "collapsed_sections": [],
      "authorship_tag": "ABX9TyOmeP1l9ktZwziMZNTxarrs",
      "include_colab_link": true
    },
    "kernelspec": {
      "display_name": "Python 3",
      "name": "python3"
    },
    "language_info": {
      "name": "python"
    }
  },
  "nbformat": 4,
  "nbformat_minor": 0
}